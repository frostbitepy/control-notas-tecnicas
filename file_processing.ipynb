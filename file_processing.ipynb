{
 "cells": [
  {
   "cell_type": "code",
   "execution_count": 286,
   "metadata": {},
   "outputs": [],
   "source": [
    "import pandas as pd\n",
    "import openpyxl\n",
    "from setup_data import (tasas, via_importacion, tipo_vhl, seg_casco,\n",
    "                         seg_rc, seg_ovp, tasa_rc_min, tasa_rc_max, tasa_ovp_min, \n",
    "                         tasa_ovp_max, recargo_ptf, products_data)"
   ]
  },
  {
   "cell_type": "code",
   "execution_count": 291,
   "metadata": {},
   "outputs": [
    {
     "ename": "TypeError",
     "evalue": "<class 'openpyxl.styles.named_styles._NamedCellStyle'>.name should be <class 'str'> but value is <class 'NoneType'>",
     "output_type": "error",
     "traceback": [
      "\u001b[1;31m---------------------------------------------------------------------------\u001b[0m",
      "\u001b[1;31mTypeError\u001b[0m                                 Traceback (most recent call last)",
      "Cell \u001b[1;32mIn[291], line 3\u001b[0m\n\u001b[0;32m      1\u001b[0m file_path \u001b[38;5;241m=\u001b[39m \u001b[38;5;124m\"\u001b[39m\u001b[38;5;124mAUTO.xlsx\u001b[39m\u001b[38;5;124m\"\u001b[39m\n\u001b[1;32m----> 3\u001b[0m main_df \u001b[38;5;241m=\u001b[39m \u001b[43mpd\u001b[49m\u001b[38;5;241;43m.\u001b[39;49m\u001b[43mread_excel\u001b[49m\u001b[43m(\u001b[49m\u001b[38;5;124;43m\"\u001b[39;49m\u001b[38;5;124;43mAUTO.xlsx\u001b[39;49m\u001b[38;5;124;43m\"\u001b[39;49m\u001b[43m)\u001b[49m\n",
      "File \u001b[1;32mc:\\Users\\francisco\\Desktop\\Productos\\Control-Notas-Tecnicas\\venv\\Lib\\site-packages\\pandas\\io\\excel\\_base.py:495\u001b[0m, in \u001b[0;36mread_excel\u001b[1;34m(io, sheet_name, header, names, index_col, usecols, dtype, engine, converters, true_values, false_values, skiprows, nrows, na_values, keep_default_na, na_filter, verbose, parse_dates, date_parser, date_format, thousands, decimal, comment, skipfooter, storage_options, dtype_backend, engine_kwargs)\u001b[0m\n\u001b[0;32m    493\u001b[0m \u001b[38;5;28;01mif\u001b[39;00m \u001b[38;5;129;01mnot\u001b[39;00m \u001b[38;5;28misinstance\u001b[39m(io, ExcelFile):\n\u001b[0;32m    494\u001b[0m     should_close \u001b[38;5;241m=\u001b[39m \u001b[38;5;28;01mTrue\u001b[39;00m\n\u001b[1;32m--> 495\u001b[0m     io \u001b[38;5;241m=\u001b[39m \u001b[43mExcelFile\u001b[49m\u001b[43m(\u001b[49m\n\u001b[0;32m    496\u001b[0m \u001b[43m        \u001b[49m\u001b[43mio\u001b[49m\u001b[43m,\u001b[49m\n\u001b[0;32m    497\u001b[0m \u001b[43m        \u001b[49m\u001b[43mstorage_options\u001b[49m\u001b[38;5;241;43m=\u001b[39;49m\u001b[43mstorage_options\u001b[49m\u001b[43m,\u001b[49m\n\u001b[0;32m    498\u001b[0m \u001b[43m        \u001b[49m\u001b[43mengine\u001b[49m\u001b[38;5;241;43m=\u001b[39;49m\u001b[43mengine\u001b[49m\u001b[43m,\u001b[49m\n\u001b[0;32m    499\u001b[0m \u001b[43m        \u001b[49m\u001b[43mengine_kwargs\u001b[49m\u001b[38;5;241;43m=\u001b[39;49m\u001b[43mengine_kwargs\u001b[49m\u001b[43m,\u001b[49m\n\u001b[0;32m    500\u001b[0m \u001b[43m    \u001b[49m\u001b[43m)\u001b[49m\n\u001b[0;32m    501\u001b[0m \u001b[38;5;28;01melif\u001b[39;00m engine \u001b[38;5;129;01mand\u001b[39;00m engine \u001b[38;5;241m!=\u001b[39m io\u001b[38;5;241m.\u001b[39mengine:\n\u001b[0;32m    502\u001b[0m     \u001b[38;5;28;01mraise\u001b[39;00m \u001b[38;5;167;01mValueError\u001b[39;00m(\n\u001b[0;32m    503\u001b[0m         \u001b[38;5;124m\"\u001b[39m\u001b[38;5;124mEngine should not be specified when passing \u001b[39m\u001b[38;5;124m\"\u001b[39m\n\u001b[0;32m    504\u001b[0m         \u001b[38;5;124m\"\u001b[39m\u001b[38;5;124man ExcelFile - ExcelFile already has the engine set\u001b[39m\u001b[38;5;124m\"\u001b[39m\n\u001b[0;32m    505\u001b[0m     )\n",
      "File \u001b[1;32mc:\\Users\\francisco\\Desktop\\Productos\\Control-Notas-Tecnicas\\venv\\Lib\\site-packages\\pandas\\io\\excel\\_base.py:1567\u001b[0m, in \u001b[0;36mExcelFile.__init__\u001b[1;34m(self, path_or_buffer, engine, storage_options, engine_kwargs)\u001b[0m\n\u001b[0;32m   1564\u001b[0m \u001b[38;5;28mself\u001b[39m\u001b[38;5;241m.\u001b[39mengine \u001b[38;5;241m=\u001b[39m engine\n\u001b[0;32m   1565\u001b[0m \u001b[38;5;28mself\u001b[39m\u001b[38;5;241m.\u001b[39mstorage_options \u001b[38;5;241m=\u001b[39m storage_options\n\u001b[1;32m-> 1567\u001b[0m \u001b[38;5;28mself\u001b[39m\u001b[38;5;241m.\u001b[39m_reader \u001b[38;5;241m=\u001b[39m \u001b[38;5;28;43mself\u001b[39;49m\u001b[38;5;241;43m.\u001b[39;49m\u001b[43m_engines\u001b[49m\u001b[43m[\u001b[49m\u001b[43mengine\u001b[49m\u001b[43m]\u001b[49m\u001b[43m(\u001b[49m\n\u001b[0;32m   1568\u001b[0m \u001b[43m    \u001b[49m\u001b[38;5;28;43mself\u001b[39;49m\u001b[38;5;241;43m.\u001b[39;49m\u001b[43m_io\u001b[49m\u001b[43m,\u001b[49m\n\u001b[0;32m   1569\u001b[0m \u001b[43m    \u001b[49m\u001b[43mstorage_options\u001b[49m\u001b[38;5;241;43m=\u001b[39;49m\u001b[43mstorage_options\u001b[49m\u001b[43m,\u001b[49m\n\u001b[0;32m   1570\u001b[0m \u001b[43m    \u001b[49m\u001b[43mengine_kwargs\u001b[49m\u001b[38;5;241;43m=\u001b[39;49m\u001b[43mengine_kwargs\u001b[49m\u001b[43m,\u001b[49m\n\u001b[0;32m   1571\u001b[0m \u001b[43m\u001b[49m\u001b[43m)\u001b[49m\n",
      "File \u001b[1;32mc:\\Users\\francisco\\Desktop\\Productos\\Control-Notas-Tecnicas\\venv\\Lib\\site-packages\\pandas\\io\\excel\\_openpyxl.py:553\u001b[0m, in \u001b[0;36mOpenpyxlReader.__init__\u001b[1;34m(self, filepath_or_buffer, storage_options, engine_kwargs)\u001b[0m\n\u001b[0;32m    541\u001b[0m \u001b[38;5;250m\u001b[39m\u001b[38;5;124;03m\"\"\"\u001b[39;00m\n\u001b[0;32m    542\u001b[0m \u001b[38;5;124;03mReader using openpyxl engine.\u001b[39;00m\n\u001b[0;32m    543\u001b[0m \n\u001b[1;32m   (...)\u001b[0m\n\u001b[0;32m    550\u001b[0m \u001b[38;5;124;03m    Arbitrary keyword arguments passed to excel engine.\u001b[39;00m\n\u001b[0;32m    551\u001b[0m \u001b[38;5;124;03m\"\"\"\u001b[39;00m\n\u001b[0;32m    552\u001b[0m import_optional_dependency(\u001b[38;5;124m\"\u001b[39m\u001b[38;5;124mopenpyxl\u001b[39m\u001b[38;5;124m\"\u001b[39m)\n\u001b[1;32m--> 553\u001b[0m \u001b[38;5;28;43msuper\u001b[39;49m\u001b[43m(\u001b[49m\u001b[43m)\u001b[49m\u001b[38;5;241;43m.\u001b[39;49m\u001b[38;5;21;43m__init__\u001b[39;49m\u001b[43m(\u001b[49m\n\u001b[0;32m    554\u001b[0m \u001b[43m    \u001b[49m\u001b[43mfilepath_or_buffer\u001b[49m\u001b[43m,\u001b[49m\n\u001b[0;32m    555\u001b[0m \u001b[43m    \u001b[49m\u001b[43mstorage_options\u001b[49m\u001b[38;5;241;43m=\u001b[39;49m\u001b[43mstorage_options\u001b[49m\u001b[43m,\u001b[49m\n\u001b[0;32m    556\u001b[0m \u001b[43m    \u001b[49m\u001b[43mengine_kwargs\u001b[49m\u001b[38;5;241;43m=\u001b[39;49m\u001b[43mengine_kwargs\u001b[49m\u001b[43m,\u001b[49m\n\u001b[0;32m    557\u001b[0m \u001b[43m\u001b[49m\u001b[43m)\u001b[49m\n",
      "File \u001b[1;32mc:\\Users\\francisco\\Desktop\\Productos\\Control-Notas-Tecnicas\\venv\\Lib\\site-packages\\pandas\\io\\excel\\_base.py:573\u001b[0m, in \u001b[0;36mBaseExcelReader.__init__\u001b[1;34m(self, filepath_or_buffer, storage_options, engine_kwargs)\u001b[0m\n\u001b[0;32m    571\u001b[0m \u001b[38;5;28mself\u001b[39m\u001b[38;5;241m.\u001b[39mhandles\u001b[38;5;241m.\u001b[39mhandle\u001b[38;5;241m.\u001b[39mseek(\u001b[38;5;241m0\u001b[39m)\n\u001b[0;32m    572\u001b[0m \u001b[38;5;28;01mtry\u001b[39;00m:\n\u001b[1;32m--> 573\u001b[0m     \u001b[38;5;28mself\u001b[39m\u001b[38;5;241m.\u001b[39mbook \u001b[38;5;241m=\u001b[39m \u001b[38;5;28;43mself\u001b[39;49m\u001b[38;5;241;43m.\u001b[39;49m\u001b[43mload_workbook\u001b[49m\u001b[43m(\u001b[49m\u001b[38;5;28;43mself\u001b[39;49m\u001b[38;5;241;43m.\u001b[39;49m\u001b[43mhandles\u001b[49m\u001b[38;5;241;43m.\u001b[39;49m\u001b[43mhandle\u001b[49m\u001b[43m,\u001b[49m\u001b[43m \u001b[49m\u001b[43mengine_kwargs\u001b[49m\u001b[43m)\u001b[49m\n\u001b[0;32m    574\u001b[0m \u001b[38;5;28;01mexcept\u001b[39;00m \u001b[38;5;167;01mException\u001b[39;00m:\n\u001b[0;32m    575\u001b[0m     \u001b[38;5;28mself\u001b[39m\u001b[38;5;241m.\u001b[39mclose()\n",
      "File \u001b[1;32mc:\\Users\\francisco\\Desktop\\Productos\\Control-Notas-Tecnicas\\venv\\Lib\\site-packages\\pandas\\io\\excel\\_openpyxl.py:572\u001b[0m, in \u001b[0;36mOpenpyxlReader.load_workbook\u001b[1;34m(self, filepath_or_buffer, engine_kwargs)\u001b[0m\n\u001b[0;32m    568\u001b[0m \u001b[38;5;28;01mfrom\u001b[39;00m \u001b[38;5;21;01mopenpyxl\u001b[39;00m \u001b[38;5;28;01mimport\u001b[39;00m load_workbook\n\u001b[0;32m    570\u001b[0m default_kwargs \u001b[38;5;241m=\u001b[39m {\u001b[38;5;124m\"\u001b[39m\u001b[38;5;124mread_only\u001b[39m\u001b[38;5;124m\"\u001b[39m: \u001b[38;5;28;01mTrue\u001b[39;00m, \u001b[38;5;124m\"\u001b[39m\u001b[38;5;124mdata_only\u001b[39m\u001b[38;5;124m\"\u001b[39m: \u001b[38;5;28;01mTrue\u001b[39;00m, \u001b[38;5;124m\"\u001b[39m\u001b[38;5;124mkeep_links\u001b[39m\u001b[38;5;124m\"\u001b[39m: \u001b[38;5;28;01mFalse\u001b[39;00m}\n\u001b[1;32m--> 572\u001b[0m \u001b[38;5;28;01mreturn\u001b[39;00m \u001b[43mload_workbook\u001b[49m\u001b[43m(\u001b[49m\n\u001b[0;32m    573\u001b[0m \u001b[43m    \u001b[49m\u001b[43mfilepath_or_buffer\u001b[49m\u001b[43m,\u001b[49m\n\u001b[0;32m    574\u001b[0m \u001b[43m    \u001b[49m\u001b[38;5;241;43m*\u001b[39;49m\u001b[38;5;241;43m*\u001b[39;49m\u001b[43m(\u001b[49m\u001b[43mdefault_kwargs\u001b[49m\u001b[43m \u001b[49m\u001b[38;5;241;43m|\u001b[39;49m\u001b[43m \u001b[49m\u001b[43mengine_kwargs\u001b[49m\u001b[43m)\u001b[49m\u001b[43m,\u001b[49m\n\u001b[0;32m    575\u001b[0m \u001b[43m\u001b[49m\u001b[43m)\u001b[49m\n",
      "File \u001b[1;32mc:\\Users\\francisco\\Desktop\\Productos\\Control-Notas-Tecnicas\\venv\\Lib\\site-packages\\openpyxl\\reader\\excel.py:346\u001b[0m, in \u001b[0;36mload_workbook\u001b[1;34m(filename, read_only, keep_vba, data_only, keep_links, rich_text)\u001b[0m\n\u001b[0;32m    316\u001b[0m \u001b[38;5;250m\u001b[39m\u001b[38;5;124;03m\"\"\"Open the given filename and return the workbook\u001b[39;00m\n\u001b[0;32m    317\u001b[0m \n\u001b[0;32m    318\u001b[0m \u001b[38;5;124;03m:param filename: the path to open or a file-like object\u001b[39;00m\n\u001b[1;32m   (...)\u001b[0m\n\u001b[0;32m    342\u001b[0m \n\u001b[0;32m    343\u001b[0m \u001b[38;5;124;03m\"\"\"\u001b[39;00m\n\u001b[0;32m    344\u001b[0m reader \u001b[38;5;241m=\u001b[39m ExcelReader(filename, read_only, keep_vba,\n\u001b[0;32m    345\u001b[0m                      data_only, keep_links, rich_text)\n\u001b[1;32m--> 346\u001b[0m \u001b[43mreader\u001b[49m\u001b[38;5;241;43m.\u001b[39;49m\u001b[43mread\u001b[49m\u001b[43m(\u001b[49m\u001b[43m)\u001b[49m\n\u001b[0;32m    347\u001b[0m \u001b[38;5;28;01mreturn\u001b[39;00m reader\u001b[38;5;241m.\u001b[39mwb\n",
      "File \u001b[1;32mc:\\Users\\francisco\\Desktop\\Productos\\Control-Notas-Tecnicas\\venv\\Lib\\site-packages\\openpyxl\\reader\\excel.py:299\u001b[0m, in \u001b[0;36mExcelReader.read\u001b[1;34m(self)\u001b[0m\n\u001b[0;32m    297\u001b[0m \u001b[38;5;28mself\u001b[39m\u001b[38;5;241m.\u001b[39mread_theme()\n\u001b[0;32m    298\u001b[0m action \u001b[38;5;241m=\u001b[39m \u001b[38;5;124m\"\u001b[39m\u001b[38;5;124mread stylesheet\u001b[39m\u001b[38;5;124m\"\u001b[39m\n\u001b[1;32m--> 299\u001b[0m \u001b[43mapply_stylesheet\u001b[49m\u001b[43m(\u001b[49m\u001b[38;5;28;43mself\u001b[39;49m\u001b[38;5;241;43m.\u001b[39;49m\u001b[43marchive\u001b[49m\u001b[43m,\u001b[49m\u001b[43m \u001b[49m\u001b[38;5;28;43mself\u001b[39;49m\u001b[38;5;241;43m.\u001b[39;49m\u001b[43mwb\u001b[49m\u001b[43m)\u001b[49m\n\u001b[0;32m    300\u001b[0m action \u001b[38;5;241m=\u001b[39m \u001b[38;5;124m\"\u001b[39m\u001b[38;5;124mread worksheets\u001b[39m\u001b[38;5;124m\"\u001b[39m\n\u001b[0;32m    301\u001b[0m \u001b[38;5;28mself\u001b[39m\u001b[38;5;241m.\u001b[39mread_worksheets()\n",
      "File \u001b[1;32mc:\\Users\\francisco\\Desktop\\Productos\\Control-Notas-Tecnicas\\venv\\Lib\\site-packages\\openpyxl\\styles\\stylesheet.py:198\u001b[0m, in \u001b[0;36mapply_stylesheet\u001b[1;34m(archive, wb)\u001b[0m\n\u001b[0;32m    195\u001b[0m     \u001b[38;5;28;01mreturn\u001b[39;00m wb\n\u001b[0;32m    197\u001b[0m node \u001b[38;5;241m=\u001b[39m fromstring(src)\n\u001b[1;32m--> 198\u001b[0m stylesheet \u001b[38;5;241m=\u001b[39m \u001b[43mStylesheet\u001b[49m\u001b[38;5;241;43m.\u001b[39;49m\u001b[43mfrom_tree\u001b[49m\u001b[43m(\u001b[49m\u001b[43mnode\u001b[49m\u001b[43m)\u001b[49m\n\u001b[0;32m    200\u001b[0m \u001b[38;5;28;01mif\u001b[39;00m stylesheet\u001b[38;5;241m.\u001b[39mcell_styles:\n\u001b[0;32m    202\u001b[0m     wb\u001b[38;5;241m.\u001b[39m_borders \u001b[38;5;241m=\u001b[39m IndexedList(stylesheet\u001b[38;5;241m.\u001b[39mborders)\n",
      "File \u001b[1;32mc:\\Users\\francisco\\Desktop\\Productos\\Control-Notas-Tecnicas\\venv\\Lib\\site-packages\\openpyxl\\styles\\stylesheet.py:103\u001b[0m, in \u001b[0;36mStylesheet.from_tree\u001b[1;34m(cls, node)\u001b[0m\n\u001b[0;32m    101\u001b[0m \u001b[38;5;28;01mfor\u001b[39;00m k \u001b[38;5;129;01min\u001b[39;00m attrs:\n\u001b[0;32m    102\u001b[0m     \u001b[38;5;28;01mdel\u001b[39;00m node\u001b[38;5;241m.\u001b[39mattrib[k]\n\u001b[1;32m--> 103\u001b[0m \u001b[38;5;28;01mreturn\u001b[39;00m \u001b[38;5;28;43msuper\u001b[39;49m\u001b[43m(\u001b[49m\u001b[43mStylesheet\u001b[49m\u001b[43m,\u001b[49m\u001b[43m \u001b[49m\u001b[38;5;28;43mcls\u001b[39;49m\u001b[43m)\u001b[49m\u001b[38;5;241;43m.\u001b[39;49m\u001b[43mfrom_tree\u001b[49m\u001b[43m(\u001b[49m\u001b[43mnode\u001b[49m\u001b[43m)\u001b[49m\n",
      "File \u001b[1;32mc:\\Users\\francisco\\Desktop\\Productos\\Control-Notas-Tecnicas\\venv\\Lib\\site-packages\\openpyxl\\descriptors\\serialisable.py:87\u001b[0m, in \u001b[0;36mSerialisable.from_tree\u001b[1;34m(cls, node)\u001b[0m\n\u001b[0;32m     84\u001b[0m \u001b[38;5;28;01melse\u001b[39;00m:\n\u001b[0;32m     85\u001b[0m     \u001b[38;5;28;01mif\u001b[39;00m \u001b[38;5;28mhasattr\u001b[39m(desc\u001b[38;5;241m.\u001b[39mexpected_type, \u001b[38;5;124m\"\u001b[39m\u001b[38;5;124mfrom_tree\u001b[39m\u001b[38;5;124m\"\u001b[39m):\n\u001b[0;32m     86\u001b[0m         \u001b[38;5;66;03m#complex type\u001b[39;00m\n\u001b[1;32m---> 87\u001b[0m         obj \u001b[38;5;241m=\u001b[39m \u001b[43mdesc\u001b[49m\u001b[38;5;241;43m.\u001b[39;49m\u001b[43mexpected_type\u001b[49m\u001b[38;5;241;43m.\u001b[39;49m\u001b[43mfrom_tree\u001b[49m\u001b[43m(\u001b[49m\u001b[43mel\u001b[49m\u001b[43m)\u001b[49m\n\u001b[0;32m     88\u001b[0m     \u001b[38;5;28;01melse\u001b[39;00m:\n\u001b[0;32m     89\u001b[0m         \u001b[38;5;66;03m#primitive\u001b[39;00m\n\u001b[0;32m     90\u001b[0m         obj \u001b[38;5;241m=\u001b[39m el\u001b[38;5;241m.\u001b[39mtext\n",
      "File \u001b[1;32mc:\\Users\\francisco\\Desktop\\Productos\\Control-Notas-Tecnicas\\venv\\Lib\\site-packages\\openpyxl\\descriptors\\serialisable.py:87\u001b[0m, in \u001b[0;36mSerialisable.from_tree\u001b[1;34m(cls, node)\u001b[0m\n\u001b[0;32m     84\u001b[0m \u001b[38;5;28;01melse\u001b[39;00m:\n\u001b[0;32m     85\u001b[0m     \u001b[38;5;28;01mif\u001b[39;00m \u001b[38;5;28mhasattr\u001b[39m(desc\u001b[38;5;241m.\u001b[39mexpected_type, \u001b[38;5;124m\"\u001b[39m\u001b[38;5;124mfrom_tree\u001b[39m\u001b[38;5;124m\"\u001b[39m):\n\u001b[0;32m     86\u001b[0m         \u001b[38;5;66;03m#complex type\u001b[39;00m\n\u001b[1;32m---> 87\u001b[0m         obj \u001b[38;5;241m=\u001b[39m \u001b[43mdesc\u001b[49m\u001b[38;5;241;43m.\u001b[39;49m\u001b[43mexpected_type\u001b[49m\u001b[38;5;241;43m.\u001b[39;49m\u001b[43mfrom_tree\u001b[49m\u001b[43m(\u001b[49m\u001b[43mel\u001b[49m\u001b[43m)\u001b[49m\n\u001b[0;32m     88\u001b[0m     \u001b[38;5;28;01melse\u001b[39;00m:\n\u001b[0;32m     89\u001b[0m         \u001b[38;5;66;03m#primitive\u001b[39;00m\n\u001b[0;32m     90\u001b[0m         obj \u001b[38;5;241m=\u001b[39m el\u001b[38;5;241m.\u001b[39mtext\n",
      "File \u001b[1;32mc:\\Users\\francisco\\Desktop\\Productos\\Control-Notas-Tecnicas\\venv\\Lib\\site-packages\\openpyxl\\descriptors\\serialisable.py:103\u001b[0m, in \u001b[0;36mSerialisable.from_tree\u001b[1;34m(cls, node)\u001b[0m\n\u001b[0;32m    100\u001b[0m     \u001b[38;5;28;01melse\u001b[39;00m:\n\u001b[0;32m    101\u001b[0m         attrib[tag] \u001b[38;5;241m=\u001b[39m obj\n\u001b[1;32m--> 103\u001b[0m \u001b[38;5;28;01mreturn\u001b[39;00m \u001b[38;5;28;43mcls\u001b[39;49m\u001b[43m(\u001b[49m\u001b[38;5;241;43m*\u001b[39;49m\u001b[38;5;241;43m*\u001b[39;49m\u001b[43mattrib\u001b[49m\u001b[43m)\u001b[49m\n",
      "File \u001b[1;32mc:\\Users\\francisco\\Desktop\\Productos\\Control-Notas-Tecnicas\\venv\\Lib\\site-packages\\openpyxl\\styles\\named_styles.py:229\u001b[0m, in \u001b[0;36m_NamedCellStyle.__init__\u001b[1;34m(self, name, xfId, builtinId, iLevel, hidden, customBuiltin, extLst)\u001b[0m\n\u001b[0;32m    220\u001b[0m \u001b[38;5;28;01mdef\u001b[39;00m \u001b[38;5;21m__init__\u001b[39m(\u001b[38;5;28mself\u001b[39m,\n\u001b[0;32m    221\u001b[0m              name\u001b[38;5;241m=\u001b[39m\u001b[38;5;28;01mNone\u001b[39;00m,\n\u001b[0;32m    222\u001b[0m              xfId\u001b[38;5;241m=\u001b[39m\u001b[38;5;28;01mNone\u001b[39;00m,\n\u001b[1;32m   (...)\u001b[0m\n\u001b[0;32m    227\u001b[0m              extLst\u001b[38;5;241m=\u001b[39m\u001b[38;5;28;01mNone\u001b[39;00m,\n\u001b[0;32m    228\u001b[0m             ):\n\u001b[1;32m--> 229\u001b[0m     \u001b[38;5;28;43mself\u001b[39;49m\u001b[38;5;241;43m.\u001b[39;49m\u001b[43mname\u001b[49m \u001b[38;5;241m=\u001b[39m name\n\u001b[0;32m    230\u001b[0m     \u001b[38;5;28mself\u001b[39m\u001b[38;5;241m.\u001b[39mxfId \u001b[38;5;241m=\u001b[39m xfId\n\u001b[0;32m    231\u001b[0m     \u001b[38;5;28mself\u001b[39m\u001b[38;5;241m.\u001b[39mbuiltinId \u001b[38;5;241m=\u001b[39m builtinId\n",
      "File \u001b[1;32mc:\\Users\\francisco\\Desktop\\Productos\\Control-Notas-Tecnicas\\venv\\Lib\\site-packages\\openpyxl\\descriptors\\base.py:46\u001b[0m, in \u001b[0;36mTyped.__set__\u001b[1;34m(self, instance, value)\u001b[0m\n\u001b[0;32m     44\u001b[0m         \u001b[38;5;28;01mif\u001b[39;00m DEBUG:\n\u001b[0;32m     45\u001b[0m             msg \u001b[38;5;241m=\u001b[39m \u001b[38;5;124mf\u001b[39m\u001b[38;5;124m\"\u001b[39m\u001b[38;5;132;01m{\u001b[39;00minstance\u001b[38;5;241m.\u001b[39m\u001b[38;5;18m__class__\u001b[39m\u001b[38;5;132;01m}\u001b[39;00m\u001b[38;5;124m.\u001b[39m\u001b[38;5;132;01m{\u001b[39;00m\u001b[38;5;28mself\u001b[39m\u001b[38;5;241m.\u001b[39mname\u001b[38;5;132;01m}\u001b[39;00m\u001b[38;5;124m should be \u001b[39m\u001b[38;5;132;01m{\u001b[39;00m\u001b[38;5;28mself\u001b[39m\u001b[38;5;241m.\u001b[39mexpected_type\u001b[38;5;132;01m}\u001b[39;00m\u001b[38;5;124m but \u001b[39m\u001b[38;5;132;01m{\u001b[39;00mvalue\u001b[38;5;132;01m}\u001b[39;00m\u001b[38;5;124m is \u001b[39m\u001b[38;5;132;01m{\u001b[39;00m\u001b[38;5;28mtype\u001b[39m(value)\u001b[38;5;132;01m}\u001b[39;00m\u001b[38;5;124m\"\u001b[39m\n\u001b[1;32m---> 46\u001b[0m         \u001b[38;5;28;01mraise\u001b[39;00m \u001b[38;5;167;01mTypeError\u001b[39;00m(msg)\n\u001b[0;32m     47\u001b[0m \u001b[38;5;28msuper\u001b[39m(Typed, \u001b[38;5;28mself\u001b[39m)\u001b[38;5;241m.\u001b[39m\u001b[38;5;21m__set__\u001b[39m(instance, value)\n",
      "\u001b[1;31mTypeError\u001b[0m: <class 'openpyxl.styles.named_styles._NamedCellStyle'>.name should be <class 'str'> but value is <class 'NoneType'>"
     ]
    }
   ],
   "source": [
    "file_path = \"AUTO.xlsx\"\n",
    "\n",
    "main_df = pd.read_excel(file_path)"
   ]
  },
  {
   "cell_type": "code",
   "execution_count": null,
   "metadata": {},
   "outputs": [],
   "source": [
    "df = main_df"
   ]
  },
  {
   "cell_type": "code",
   "execution_count": null,
   "metadata": {},
   "outputs": [],
   "source": [
    "def updated_name_column(df):\n",
    "    df['Updated Nombre Producto'] = df['Nombre Producto'].map(products_data)\n",
    "    return df"
   ]
  },
  {
   "cell_type": "code",
   "execution_count": null,
   "metadata": {},
   "outputs": [],
   "source": [
    "def add_cobertura_basica_column(df):\n",
    "    df[\"Cobertura Básica / Casco\"] = df[\"Auto Cober. Básica 1\"] + df[\"Auto Cober. Básica 2\"] + df[\"Auto Accesorios\"]\n",
    "    return df"
   ]
  },
  {
   "cell_type": "code",
   "execution_count": null,
   "metadata": {},
   "outputs": [],
   "source": [
    "def round_to_million(n):\n",
    "    if n > 150000000:\n",
    "        return 150000000\n",
    "    else:\n",
    "        return (n // 1000000) * 1000000"
   ]
  },
  {
   "cell_type": "code",
   "execution_count": null,
   "metadata": {},
   "outputs": [],
   "source": [
    "def add_capital_seg_column(df):\n",
    "    df[\"Capital seg\"] = df[\"Cobertura Básica / Casco\"].apply(round_to_million)\n",
    "    return df"
   ]
  },
  {
   "cell_type": "code",
   "execution_count": null,
   "metadata": {},
   "outputs": [],
   "source": [
    "def add_resp_civil_column(df):\n",
    "    df[\"Resp. Civil\"] = df[\"Auto Lesión 2 o más Per.\"] + df[\"Auto Daños Material a Ter.\"]\n",
    "    return df"
   ]
  },
  {
   "cell_type": "code",
   "execution_count": null,
   "metadata": {},
   "outputs": [],
   "source": [
    "def add_ovp_column(df):\n",
    "    df[\"OVP\"] = (df[\"Auto Muerte/Incap.\"] + df[\"Auto Asist. Médica\"]) *  df[\"Cant. Ocupantes\"]\n",
    "    return df"
   ]
  },
  {
   "cell_type": "code",
   "execution_count": null,
   "metadata": {},
   "outputs": [],
   "source": [
    "def add_franquicia_column(df):\n",
    "    def map_franquicia(value):\n",
    "        if value < 500000:\n",
    "            return \"General\"\n",
    "        elif value == 500000:\n",
    "            return \"Franquicia 500mil\"\n",
    "        else:\n",
    "            return \"Franquicia 1 millón\"\n",
    "\n",
    "    df[\"Franquicia\"] = df[\"Franquicia Monto Fijo\"].apply(map_franquicia)\n",
    "    return df"
   ]
  },
  {
   "cell_type": "code",
   "execution_count": null,
   "metadata": {},
   "outputs": [],
   "source": [
    "def add_importacion_column(df):\n",
    "    df[\"Importacion\"] = df[\"Via Importación\"].map(via_importacion)\n",
    "    return df"
   ]
  },
  {
   "cell_type": "code",
   "execution_count": null,
   "metadata": {},
   "outputs": [],
   "source": [
    "def add_tipo_column(df):\n",
    "    df['Tipo'] = df['Tipo Vehiculo'].map(tipo_vhl)\n",
    "    return df"
   ]
  },
  {
   "cell_type": "code",
   "execution_count": null,
   "metadata": {},
   "outputs": [],
   "source": [
    "def add_segmento_column(df):\n",
    "    df['Segmento'] = df['Tipo'] + df['Franquicia'] + df['Importacion']\n",
    "    return df"
   ]
  },
  {
   "cell_type": "code",
   "execution_count": null,
   "metadata": {},
   "outputs": [],
   "source": [
    "def add_segmento_casco_column(df):\n",
    "    df['Segmento Casco'] = df['Segmento'].map(seg_casco)\n",
    "    return df\n",
    "\n",
    "def add_segmento_rc_column(df):\n",
    "    df['Segmento RC'] = df['Segmento'].map(seg_rc)\n",
    "    return df\n",
    "\n",
    "def add_segmento_ovp_column(df):\n",
    "    df['Segmento OVP'] = df['Segmento'].map(seg_ovp)\n",
    "    return df"
   ]
  },
  {
   "cell_type": "code",
   "execution_count": null,
   "metadata": {},
   "outputs": [],
   "source": [
    "def add_final_casco_column(df):\n",
    "    df['Final Casco'] = df['Segmento Casco'] + \"-\" + df['Capital seg'].astype(str) \n",
    "    return df"
   ]
  },
  {
   "cell_type": "code",
   "execution_count": null,
   "metadata": {},
   "outputs": [],
   "source": [
    "def add_tasa_min_prima_pura_casco_column(df):\n",
    "    df['Tasa MIN Prima Pura Casco'] = df['Final Casco'].map(lambda x: tasas.get(x, {}).get('min'))\n",
    "    return df \n",
    "\n",
    "def add_tasa_min_prima_pura_rc_column(df):\n",
    "    df['Tasa MIN Prima Pura RC'] = df['Segmento RC'].map(tasa_rc_min)\n",
    "    return df\n",
    "\n",
    "def add_tasa_min_prima_pura_ovp_column(df ):\n",
    "    df['Tasa MIN Prima Pura OVP'] = df['Segmento OVP'].map(tasa_ovp_min)\n",
    "    return df"
   ]
  },
  {
   "cell_type": "code",
   "execution_count": null,
   "metadata": {},
   "outputs": [],
   "source": [
    "def add_prima_min_cobertura_basica_casco_column(df):\n",
    "    df['Prima MIN Cobertura Basica / Casco'] = df['Cobertura Básica / Casco'] * df['Tasa MIN Prima Pura Casco']\n",
    "    return df\n",
    "    \n",
    "def add_prima_min_rc_column(df):\n",
    "    df['Prima MIN RC'] = df[\"Resp. Civil\"] * df[\"Tasa MIN Prima Pura RC\"]\n",
    "    return df\n",
    "\n",
    "def add_prima_min_ovp_column(df):\n",
    "    df['Prima MIN OVP'] = df[\"OVP\"] * df[\"Tasa MIN Prima Pura OVP\"]\n",
    "    return df"
   ]
  },
  {
   "cell_type": "code",
   "execution_count": null,
   "metadata": {},
   "outputs": [],
   "source": [
    "def add_dias_vigencia_column(df):\n",
    "    df['Dias Vigencia'] = (df['Fec. Hasta'] - df['Fec. Desde']).dt.days + 1\n",
    "    return df\n",
    "\n",
    "def add_prima_tecnica_art_column(df):\n",
    "    df['Prima Tecnica Art.'] = df['Prima Técnica Art.'] / df['Dias Vigencia'] * 365\n",
    "    return df"
   ]
  },
  {
   "cell_type": "code",
   "execution_count": null,
   "metadata": {},
   "outputs": [],
   "source": [
    "def add_min_prima_pura_cot_column(df):\n",
    "    df['MIN Prima Pura Cot'] = df['Prima MIN Cobertura Basica / Casco'] + df['Prima MIN RC'] + df['Prima MIN OVP']\n",
    "    return df\n",
    "\n",
    "def add_min_prima_tarifa_cot_column(df):\n",
    "    df['MIN Prima Tarifa Cot'] = df['MIN Prima Pura Cot'] * recargo_ptf\n",
    "    return df"
   ]
  },
  {
   "cell_type": "code",
   "execution_count": null,
   "metadata": {},
   "outputs": [],
   "source": [
    "def add_tasa_max_prima_pura_casco_column(df):\n",
    "    df['Tasa MAX Prima Pura Casco'] = df['Final Casco'].map(lambda x: tasas.get(x, {}).get('max'))\n",
    "    return df \n",
    "\n",
    "def add_tasa_max_prima_pura_rc_column(df):\n",
    "    df['Tasa MAX Prima Pura RC'] = df['Segmento RC'].map(tasa_rc_max)\n",
    "    return df\n",
    "\n",
    "def add_tasa_max_prima_pura_ovp_column(df ):\n",
    "    df['Tasa MAX Prima Pura OVP'] = df['Segmento OVP'].map(tasa_ovp_max)\n",
    "    return df"
   ]
  },
  {
   "cell_type": "code",
   "execution_count": null,
   "metadata": {},
   "outputs": [],
   "source": [
    "def add_prima_max_cobertura_basica_casco_column(df):\n",
    "    df['Prima MAX Cobertura Basica / Casco'] = df['Cobertura Básica / Casco'] * df['Tasa MAX Prima Pura Casco']\n",
    "    return df\n",
    "    \n",
    "def add_prima_max_rc_column(df):\n",
    "    df['Prima MAX RC'] = df[\"Resp. Civil\"] * df[\"Tasa MAX Prima Pura RC\"]\n",
    "    return df\n",
    "\n",
    "def add_prima_max_ovp_column(df):\n",
    "    df['Prima MAX OVP'] = df[\"OVP\"] * df[\"Tasa MAX Prima Pura OVP\"]\n",
    "    return df"
   ]
  },
  {
   "cell_type": "code",
   "execution_count": null,
   "metadata": {},
   "outputs": [],
   "source": [
    "def add_max_prima_pura_cot_column(df):\n",
    "    df['MAX Prima Pura Cot'] = df['Prima MAX Cobertura Basica / Casco'] + df['Prima MAX RC'] + df['Prima MAX OVP']\n",
    "    return df\n",
    "\n",
    "def add_max_prima_tarifa_cot_column(df):\n",
    "    df['MAX Prima Tarifa Cot'] = df['MAX Prima Pura Cot'] * recargo_ptf\n",
    "    return df"
   ]
  },
  {
   "cell_type": "code",
   "execution_count": null,
   "metadata": {},
   "outputs": [],
   "source": [
    "def add_monto_diferencia_prima_pura_column(df):\n",
    "    def calculate_difference(row):\n",
    "        cx = row['Prima Tecnica Art.']\n",
    "        da = row['MIN Prima Pura Cot']\n",
    "        dj = row['MAX Prima Tarifa Cot']\n",
    "\n",
    "        if cx < da:\n",
    "            return cx - da\n",
    "        elif cx > dj:\n",
    "            return cx - dj\n",
    "        else:\n",
    "            return \"\"\n",
    "\n",
    "    df['Monto Diferencia Prima Pura'] = df.apply(calculate_difference, axis=1)\n",
    "    return df\n",
    "\n",
    "def add_monto_diferencia_prima_tarifa_column(df):\n",
    "    def calculate_difference(row):\n",
    "        cx = row['Prima Tecnica Art.']\n",
    "        da = row['MIN Prima Tarifa Cot']\n",
    "        dj = row['MAX Prima Tarifa Cot']\n",
    "\n",
    "        if cx < da:\n",
    "            return cx - da\n",
    "        elif cx > dj:\n",
    "            return cx - dj\n",
    "        else:\n",
    "            return \"\"\n",
    "\n",
    "    df['Monto Diferencia Prima Tarifa'] = df.apply(calculate_difference, axis=1)\n",
    "    return df"
   ]
  },
  {
   "cell_type": "code",
   "execution_count": null,
   "metadata": {},
   "outputs": [
    {
     "name": "stdout",
     "output_type": "stream",
     "text": [
      "Index(['Emitido', 'Sección Principal', 'Nombre Sección Principal', 'Sección',\n",
      "       'Nombre Sección', 'Póliza', 'Endoso', 'Tipo Póliza',\n",
      "       'Nombre Tipo Póliza', 'Contratante/Asegurado',\n",
      "       ...\n",
      "       'Stro. Auto Cobertura Básica 2', 'Stro. Auto Lesión Una Per. Art.',\n",
      "       'Stro. Auto Lesión 2 o más Per. Art.', 'Stro. Auto Robo Veh. Art.',\n",
      "       'Stro. Auto Accesorios Art.', 'Stro. Auto Daños Material a Ter. Art.',\n",
      "       'Stro. Auto Muerte/Incap. Art.', 'Stro. Auto Asist. Médica Art.',\n",
      "       'Stro. Auto Otras Coberturas Art.', 'Cantidad de Personas Articulo'],\n",
      "      dtype='object', length=177)\n"
     ]
    }
   ],
   "source": [
    "print(df.columns)"
   ]
  },
  {
   "cell_type": "code",
   "execution_count": null,
   "metadata": {},
   "outputs": [
    {
     "name": "stdout",
     "output_type": "stream",
     "text": [
      "     Emitido  Sección Principal Nombre Sección Principal  Sección  \\\n",
      "0          A                500              AUTOMOVILES      501   \n",
      "1          A                500              AUTOMOVILES      501   \n",
      "2          A                500              AUTOMOVILES      501   \n",
      "3          A                500              AUTOMOVILES      501   \n",
      "4          A                500              AUTOMOVILES      501   \n",
      "...      ...                ...                      ...      ...   \n",
      "6279       N                500              AUTOMOVILES      501   \n",
      "6280       N                500              AUTOMOVILES      501   \n",
      "6281       N                500              AUTOMOVILES      501   \n",
      "6282       N                500              AUTOMOVILES      501   \n",
      "6283       N                500              AUTOMOVILES      501   \n",
      "\n",
      "     Nombre Sección  Póliza  Endoso  Tipo Póliza Nombre Tipo Póliza  \\\n",
      "0       AUTOMOVILES     551       0            2         Renovacion   \n",
      "1       AUTOMOVILES     552       0            2         Renovacion   \n",
      "2       AUTOMOVILES     553       0            2         Renovacion   \n",
      "3       AUTOMOVILES     554       0            2         Renovacion   \n",
      "4       AUTOMOVILES     555       0            2         Renovacion   \n",
      "...             ...     ...     ...          ...                ...   \n",
      "6279    AUTOMOVILES  150430       0            1              Nueva   \n",
      "6280    AUTOMOVILES  150430       0            1              Nueva   \n",
      "6281    AUTOMOVILES  150430       0            1              Nueva   \n",
      "6282    AUTOMOVILES  150431       0            1              Nueva   \n",
      "6283    AUTOMOVILES  150433       0            1              Nueva   \n",
      "\n",
      "      Contratante/Asegurado  ... Tasa MAX Prima Pura Casco  \\\n",
      "0                1949910000  ...                  0.052752   \n",
      "1                1949910000  ...                  0.052752   \n",
      "2                2302180000  ...                  0.026695   \n",
      "3                 267150000  ...                  0.030729   \n",
      "4                 267150000  ...                  0.030729   \n",
      "...                     ...  ...                       ...   \n",
      "6279             2956070000  ...                  0.026695   \n",
      "6280             2956070000  ...                  0.036015   \n",
      "6281             2956070000  ...                  0.026695   \n",
      "6282             2956340000  ...                  0.026695   \n",
      "6283             2436910000  ...                  0.032184   \n",
      "\n",
      "      Tasa MAX Prima Pura RC Tasa MAX Prima Pura OVP  \\\n",
      "0                   0.001415                0.003458   \n",
      "1                   0.001415                0.003458   \n",
      "2                   0.001445                0.003747   \n",
      "3                   0.001415                0.003458   \n",
      "4                   0.001415                0.003458   \n",
      "...                      ...                     ...   \n",
      "6279                0.001445                0.003747   \n",
      "6280                0.001445                0.003747   \n",
      "6281                0.001445                0.003747   \n",
      "6282                0.001445                0.003747   \n",
      "6283                0.001445                0.003747   \n",
      "\n",
      "     Prima MAX Cobertura Basica / Casco   Prima MAX RC Prima MAX OVP  \\\n",
      "0                          1.232104e+06   23550.623250  0.000000e+00   \n",
      "1                          1.205764e+06   24257.142655  0.000000e+00   \n",
      "2                          1.113836e+07  121743.414610  6.313807e+05   \n",
      "3                          3.214089e+06  234093.072000  4.585676e+05   \n",
      "4                          3.214089e+06  234093.072000  4.585676e+05   \n",
      "...                                 ...            ...           ...   \n",
      "6279                       4.898530e+06  260100.000000  7.494000e+05   \n",
      "6280                       2.539076e+06  260100.000000  7.494000e+05   \n",
      "6281                       5.752770e+06  260100.000000  7.494000e+05   \n",
      "6282                       7.354469e+06  325125.000000  1.030425e+06   \n",
      "6283                       3.073562e+06  325125.000000  1.030425e+06   \n",
      "\n",
      "     MAX Prima Pura Cot MAX Prima Tarifa Cot  Monto Diferencia Prima Pura  \\\n",
      "0          1.255654e+06         2.247713e+06                                \n",
      "1          1.230021e+06         2.201828e+06                                \n",
      "2          1.189149e+07         2.128663e+07                                \n",
      "3          3.906749e+06         6.993368e+06                -69320.339977   \n",
      "4          3.906749e+06         6.993368e+06                -69320.339977   \n",
      "...                 ...                  ...                          ...   \n",
      "6279       5.908030e+06         1.057581e+07                                \n",
      "6280       3.548576e+06         6.352211e+06                                \n",
      "6281       6.762270e+06         1.210496e+07                                \n",
      "6282       8.710019e+06         1.559157e+07                                \n",
      "6283       4.429112e+06         7.928434e+06                                \n",
      "\n",
      "     Monto Diferencia Prima Tarifa  \n",
      "0                   -549275.207863  \n",
      "1                   -495776.009513  \n",
      "2                                   \n",
      "3                  -1646871.309033  \n",
      "4                  -1646871.309033  \n",
      "...                            ...  \n",
      "6279                 -414599.75641  \n",
      "6280                -763657.588063  \n",
      "6281                -374598.100726  \n",
      "6282                                \n",
      "6283                                \n",
      "\n",
      "[6284 rows x 210 columns]\n"
     ]
    }
   ],
   "source": [
    "df = updated_name_column(df)\n",
    "df = add_cobertura_basica_column(df)\n",
    "df = add_capital_seg_column(df)\n",
    "df = add_resp_civil_column(df)\n",
    "df = add_ovp_column(df)\n",
    "df = add_tipo_column(df)\n",
    "df = add_franquicia_column(df)\n",
    "df = add_importacion_column(df)\n",
    "df = add_segmento_column(df)\n",
    "df = add_segmento_casco_column(df)\n",
    "df = add_segmento_rc_column(df)\n",
    "df = add_segmento_ovp_column(df)\n",
    "df = add_final_casco_column(df)\n",
    "df = add_tasa_min_prima_pura_casco_column(df)\n",
    "df = add_tasa_min_prima_pura_rc_column(df)\n",
    "df = add_tasa_min_prima_pura_ovp_column(df)\n",
    "df = add_prima_min_cobertura_basica_casco_column(df)\n",
    "df = add_prima_min_rc_column(df)\n",
    "df = add_prima_min_ovp_column(df)\n",
    "df = add_dias_vigencia_column(df)\n",
    "df = add_prima_tecnica_art_column(df)\n",
    "df = add_min_prima_pura_cot_column(df)\n",
    "df = add_min_prima_tarifa_cot_column(df)\n",
    "df = add_tasa_max_prima_pura_casco_column(df)\n",
    "df = add_tasa_max_prima_pura_rc_column(df)\n",
    "df = add_tasa_max_prima_pura_ovp_column(df)\n",
    "df = add_prima_max_cobertura_basica_casco_column(df)\n",
    "df = add_prima_max_rc_column(df)\n",
    "df = add_prima_max_ovp_column(df)\n",
    "df = add_max_prima_pura_cot_column(df)\n",
    "df = add_max_prima_tarifa_cot_column(df)\n",
    "df = add_monto_diferencia_prima_pura_column(df)\n",
    "df = add_monto_diferencia_prima_tarifa_column(df)\n",
    "print(df)"
   ]
  },
  {
   "cell_type": "code",
   "execution_count": null,
   "metadata": {},
   "outputs": [],
   "source": [
    "df.to_excel('output_updated_products.xlsx', index=False)"
   ]
  },
  {
   "cell_type": "code",
   "execution_count": null,
   "metadata": {},
   "outputs": [],
   "source": [
    "def count_product_names_x(df):\n",
    "    df['Mapped Nombre Producto'] = df['Nombre Producto'].map(products_data)\n",
    "    df_count = df.groupby('Updated Nombre Producto').agg({\n",
    "        'Mapped Nombre Producto': 'count',\n",
    "        'Prima Tecnica Art.': 'sum',\n",
    "        'MIN Prima Pura Cot': 'sum',\n",
    "        'MIN Prima Tarifa Cot': 'sum',\n",
    "        'MAX Prima Pura Cot': 'sum'\n",
    "    }).reset_index()\n",
    "    df_count.columns = ['PRODUCTO', 'CANTIDAD', 'PRIMA TECNICA ART', 'MIN PRIMA PURA COT', 'MIN PRIMA TARIFA COT', 'MAX PRIMA PURA COT']\n",
    "    return df_count"
   ]
  },
  {
   "cell_type": "code",
   "execution_count": null,
   "metadata": {},
   "outputs": [],
   "source": [
    "def count_product_names_x2(df):\n",
    "    # Convert columns to numeric type and round to 2 decimal places\n",
    "    numeric_columns = ['Prima Tecnica Art.', 'MIN Prima Pura Cot', 'MIN Prima Tarifa Cot', 'MAX Prima Pura Cot', 'Monto Diferencia Prima Pura', 'Monto Diferencia Prima Tarifa']\n",
    "    for col in numeric_columns:\n",
    "        df[col] = pd.to_numeric(df[col], errors='coerce').round(2)\n",
    "\n",
    "    df['Mapped Nombre Producto'] = df['Nombre Producto'].map(products_data)\n",
    "    df_grouped = df.groupby('Updated Nombre Producto').agg({\n",
    "        'Mapped Nombre Producto': 'count',\n",
    "        'Prima Tecnica Art.': 'sum',\n",
    "        'MIN Prima Pura Cot': 'sum',\n",
    "        'MIN Prima Tarifa Cot': 'sum',\n",
    "        'MAX Prima Pura Cot': 'sum',\n",
    "        'Monto Diferencia Prima Pura': 'sum',\n",
    "        'Monto Diferencia Prima Tarifa': 'sum'\n",
    "    }).reset_index()\n",
    "\n",
    "    df_grouped.columns = ['PRODUCTO', 'CANTIDAD', 'PRIMA TECNICA ART', 'MIN PRIMA PURA COT', 'MIN PRIMA TARIFA COT', 'MAX PRIMA PURA COT', 'Total Monto Diferencia Prima Pura', 'Total Monto Diferencia Prima Tarifa']\n",
    "    return df_grouped"
   ]
  },
  {
   "cell_type": "code",
   "execution_count": null,
   "metadata": {},
   "outputs": [],
   "source": [
    "def process_resumen(df):\n",
    "    # Convert columns to numeric type and round to 2 decimal places\n",
    "    numeric_columns = ['Prima Tecnica Art.', 'MIN Prima Pura Cot', 'MIN Prima Tarifa Cot', 'MAX Prima Pura Cot', 'Monto Diferencia Prima Pura', 'Monto Diferencia Prima Tarifa']\n",
    "    for col in numeric_columns:\n",
    "        df[col] = pd.to_numeric(df[col], errors='coerce').round(2)\n",
    "\n",
    "    df['Mapped Nombre Producto'] = df['Nombre Producto'].map(products_data)\n",
    "    df_grouped = df.groupby('Updated Nombre Producto').agg({\n",
    "        'Mapped Nombre Producto': 'count',\n",
    "        'Prima Tecnica Art.': 'sum',\n",
    "        'MIN Prima Pura Cot': 'sum',\n",
    "        'MIN Prima Tarifa Cot': 'sum',\n",
    "        'MAX Prima Pura Cot': 'sum',\n",
    "        'Monto Diferencia Prima Pura': ['sum', 'count'],\n",
    "        'Monto Diferencia Prima Tarifa': ['sum', 'count']\n",
    "    }).reset_index()\n",
    "\n",
    "    df_grouped.columns = ['PRODUCTO', 'CANTIDAD', 'PRIMA TÉCNICA ART', 'MIN PRIMA PURA COT', 'MIN PRIMA TARIFA COT', 'MAX PRIMA PURA COT', 'Total Monto Diferencia Prima Pura', 'Count Prima Pura', 'Total Monto Diferencia Prima Tarifa', 'Count Prima Tarifa']\n",
    "    return df_grouped"
   ]
  },
  {
   "cell_type": "code",
   "execution_count": null,
   "metadata": {},
   "outputs": [],
   "source": [
    "df_new = process_resumen(df)\n",
    "df_new.to_excel('resumen_auto.xlsx', index=False)"
   ]
  }
 ],
 "metadata": {
  "kernelspec": {
   "display_name": "venv",
   "language": "python",
   "name": "python3"
  },
  "language_info": {
   "codemirror_mode": {
    "name": "ipython",
    "version": 3
   },
   "file_extension": ".py",
   "mimetype": "text/x-python",
   "name": "python",
   "nbconvert_exporter": "python",
   "pygments_lexer": "ipython3",
   "version": "3.11.3"
  }
 },
 "nbformat": 4,
 "nbformat_minor": 2
}

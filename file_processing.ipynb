{
 "cells": [
  {
   "cell_type": "code",
   "execution_count": 27,
   "metadata": {},
   "outputs": [],
   "source": [
    "import pandas as pd\n",
    "import openpyxl\n",
    "from setup_data import (tasas, franquicia, via_importacion, tipo_vhl, seg_casco,\n",
    "                         seg_rc, seg_ovp, tasa_rc_min, tasa_rc_max, tasa_ovp_min, \n",
    "                         tasa_ovp_max, recargo_ptf)"
   ]
  },
  {
   "cell_type": "code",
   "execution_count": 28,
   "metadata": {},
   "outputs": [],
   "source": [
    "file_path = \"listado_especial.xlsx\"\n",
    "\n",
    "main_df = pd.read_excel(file_path)"
   ]
  },
  {
   "cell_type": "code",
   "execution_count": 29,
   "metadata": {},
   "outputs": [],
   "source": [
    "df = main_df"
   ]
  },
  {
   "cell_type": "code",
   "execution_count": 30,
   "metadata": {},
   "outputs": [],
   "source": [
    "def add_new_column(df):\n",
    "    df[\"Cobertura Básica / Casco\"] = df[\"Auto Cober. Básica 1\"] + df[\"Auto Cober. Básica 2\"] + df[\"Auto Accesorios\"]\n",
    "    return df"
   ]
  },
  {
   "cell_type": "code",
   "execution_count": 31,
   "metadata": {},
   "outputs": [],
   "source": [
    "def round_to_million(n):\n",
    "    if n > 150000000:\n",
    "        return 150000000\n",
    "    else:\n",
    "        return (n // 1000000) * 1000000"
   ]
  },
  {
   "cell_type": "code",
   "execution_count": 32,
   "metadata": {},
   "outputs": [],
   "source": [
    "def add_capital_seg_column(df):\n",
    "    df[\"Capital seg\"] = df[\"Cobertura Básica / Casco\"].apply(round_to_million)\n",
    "    return df"
   ]
  },
  {
   "cell_type": "code",
   "execution_count": 33,
   "metadata": {},
   "outputs": [],
   "source": [
    "def add_resp_civil_column(df):\n",
    "    df[\"Resp. Civil\"] = df[\"Auto Lesión 2 o más Per.\"] + df[\"Auto Daños Material a Ter.\"]\n",
    "    return df"
   ]
  },
  {
   "cell_type": "code",
   "execution_count": 34,
   "metadata": {},
   "outputs": [],
   "source": [
    "def add_ovp_column(df):\n",
    "    df[\"OVP\"] = (df[\"Auto Muerte/Incap.\"] + df[\"Auto Asist. Médica\"]) *  df[\"Cant. Ocupantes\"]\n",
    "    return df"
   ]
  },
  {
   "cell_type": "code",
   "execution_count": 35,
   "metadata": {},
   "outputs": [],
   "source": [
    "def add_franquicia_column(df):\n",
    "    def map_franquicia(value):\n",
    "        if value < 500000:\n",
    "            return \"General\"\n",
    "        elif value == 500000:\n",
    "            return \"Franquicia 500mil\"\n",
    "        else:\n",
    "            return \"Franquicia 1 millón\"\n",
    "\n",
    "    df[\"Franquicia\"] = df[\"Franquicia Monto Fijo\"].apply(map_franquicia)\n",
    "    return df"
   ]
  },
  {
   "cell_type": "code",
   "execution_count": 36,
   "metadata": {},
   "outputs": [],
   "source": [
    "def add_importacion_column(df):\n",
    "    df[\"Importacion\"] = df[\"Via Importación\"].map(via_importacion)\n",
    "    return df"
   ]
  },
  {
   "cell_type": "code",
   "execution_count": 37,
   "metadata": {},
   "outputs": [],
   "source": [
    "def add_tipo_column(df):\n",
    "    df['Tipo'] = df['Tipo Vehiculo'].map(tipo_vhl)\n",
    "    return df"
   ]
  },
  {
   "cell_type": "code",
   "execution_count": 38,
   "metadata": {},
   "outputs": [],
   "source": [
    "def add_segmento_column(df):\n",
    "    df['Segmento'] = df['Tipo'] + df['Franquicia'] + df['Importacion']\n",
    "    return df"
   ]
  },
  {
   "cell_type": "code",
   "execution_count": 39,
   "metadata": {},
   "outputs": [],
   "source": [
    "def add_segmento_casco_column(df):\n",
    "    df['Segmento Casco'] = df['Segmento'].map(seg_casco)\n",
    "    return df\n",
    "\n",
    "def add_segmento_rc_column(df):\n",
    "    df['Segmento RC'] = df['Segmento'].map(seg_rc)\n",
    "    return df\n",
    "\n",
    "def add_segmento_ovp_column(df):\n",
    "    df['Segmento OVP'] = df['Segmento'].map(seg_ovp)\n",
    "    return df"
   ]
  },
  {
   "cell_type": "code",
   "execution_count": 40,
   "metadata": {},
   "outputs": [],
   "source": [
    "def add_final_casco_column(df):\n",
    "    df['Final Casco'] = df['Segmento Casco'] + \"-\" + df['Capital seg'].astype(str) \n",
    "    return df"
   ]
  },
  {
   "cell_type": "code",
   "execution_count": 41,
   "metadata": {},
   "outputs": [],
   "source": [
    "def add_tasa_min_prima_pura_casco_column(df):\n",
    "    df['Tasa MIN Prima Pura Casco'] = df['Final Casco'].map(lambda x: tasas.get(x, {}).get('min'))\n",
    "    return df \n",
    "\n",
    "def add_tasa_min_prima_pura_rc_column(df):\n",
    "    df['Tasa MIN Prima Pura RC'] = df['Segmento RC'].map(tasa_rc_min)\n",
    "    return df\n",
    "\n",
    "def add_tasa_min_prima_pura_ovp_column(df ):\n",
    "    df['Tasa MIN Prima Pura OVP'] = df['Segmento OVP'].map(tasa_ovp_min)\n",
    "    return df"
   ]
  },
  {
   "cell_type": "code",
   "execution_count": 42,
   "metadata": {},
   "outputs": [],
   "source": [
    "def add_prima_min_cobertura_basica_casco_column(df):\n",
    "    df['Prima MIN Cobertura Basica / Casco'] = df['Cobertura Básica / Casco'] * df['Tasa MIN Prima Pura Casco']\n",
    "    return df\n",
    "    \n",
    "def add_prima_min_rc_column(df):\n",
    "    df['Prima MIN RC'] = df[\"Resp. Civil\"] * df[\"Tasa MIN Prima Pura RC\"]\n",
    "    return df\n",
    "\n",
    "def add_prima_min_ovp_column(df):\n",
    "    df['Prima MIN OVP'] = df[\"OVP\"] * df[\"Tasa MIN Prima Pura OVP\"]\n",
    "    return df"
   ]
  },
  {
   "cell_type": "code",
   "execution_count": 43,
   "metadata": {},
   "outputs": [],
   "source": [
    "def add_dias_vigencia_column(df):\n",
    "    df['Dias Vigencia'] = (df['Fec. Hasta'] - df['Fec. Desde']).dt.days + 1\n",
    "    return df\n",
    "\n",
    "def add_prima_tecnica_art_column(df):\n",
    "    df['Prima Tecnica Art.'] = df['Prima Técnica Art.'] / df['Dias Vigencia'] * 365\n",
    "    return df"
   ]
  },
  {
   "cell_type": "code",
   "execution_count": 44,
   "metadata": {},
   "outputs": [],
   "source": [
    "def add_min_prima_pura_cot_column(df):\n",
    "    df['MIN Prima Pura Cot'] = df['Prima MIN Cobertura Basica / Casco'] + df['Prima MIN RC'] + df['Prima MIN OVP']\n",
    "    return df\n",
    "\n",
    "def add_min_prima_tarifa_cot_column(df):\n",
    "    df['MIN Prima Tarifa Cot'] = df['MIN Prima Pura Cot'] * recargo_ptf\n",
    "    return df"
   ]
  },
  {
   "cell_type": "code",
   "execution_count": 45,
   "metadata": {},
   "outputs": [],
   "source": [
    "def add_tasa_max_prima_pura_casco_column(df):\n",
    "    df['Tasa MAX Prima Pura Casco'] = df['Final Casco'].map(lambda x: tasas.get(x, {}).get('max'))\n",
    "    return df \n",
    "\n",
    "def add_tasa_max_prima_pura_rc_column(df):\n",
    "    df['Tasa MAX Prima Pura RC'] = df['Segmento RC'].map(tasa_rc_max)\n",
    "    return df\n",
    "\n",
    "def add_tasa_max_prima_pura_ovp_column(df ):\n",
    "    df['Tasa MAX Prima Pura OVP'] = df['Segmento OVP'].map(tasa_ovp_max)\n",
    "    return df"
   ]
  },
  {
   "cell_type": "code",
   "execution_count": 46,
   "metadata": {},
   "outputs": [],
   "source": [
    "def add_prima_max_cobertura_basica_casco_column(df):\n",
    "    df['Prima MAX Cobertura Basica / Casco'] = df['Cobertura Básica / Casco'] * df['Tasa MAX Prima Pura Casco']\n",
    "    return df\n",
    "    \n",
    "def add_prima_max_rc_column(df):\n",
    "    df['Prima MAX RC'] = df[\"Resp. Civil\"] * df[\"Tasa MAX Prima Pura RC\"]\n",
    "    return df\n",
    "\n",
    "def add_prima_max_ovp_column(df):\n",
    "    df['Prima MAX OVP'] = df[\"OVP\"] * df[\"Tasa MAX Prima Pura OVP\"]\n",
    "    return df"
   ]
  },
  {
   "cell_type": "code",
   "execution_count": 47,
   "metadata": {},
   "outputs": [],
   "source": [
    "def add_max_prima_pura_cot_column(df):\n",
    "    df['MAX Prima Pura Cot'] = df['Prima MAX Cobertura Basica / Casco'] + df['Prima MAX RC'] + df['Prima MAX OVP']\n",
    "    return df\n",
    "\n",
    "def add_max_prima_tarifa_cot_column(df):\n",
    "    df['MAX Prima Tarifa Cot'] = df['MAX Prima Pura Cot'] * recargo_ptf\n",
    "    return df"
   ]
  },
  {
   "cell_type": "code",
   "execution_count": 48,
   "metadata": {},
   "outputs": [
    {
     "name": "stdout",
     "output_type": "stream",
     "text": [
      "Index(['Emitido', 'Sección Principal', 'Nombre Sección Principal', 'Sección',\n",
      "       'Nombre Sección', 'Póliza', 'Endoso', 'Tipo Póliza',\n",
      "       'Nombre Tipo Póliza', 'Contratante/Asegurado',\n",
      "       ...\n",
      "       'Stro. Auto Cobertura Básica 2', 'Stro. Auto Lesión Una Per. Art.',\n",
      "       'Stro. Auto Lesión 2 o más Per. Art.', 'Stro. Auto Robo Veh. Art.',\n",
      "       'Stro. Auto Accesorios Art.', 'Stro. Auto Daños Material a Ter. Art.',\n",
      "       'Stro. Auto Muerte/Incap. Art.', 'Stro. Auto Asist. Médica Art.',\n",
      "       'Stro. Auto Otras Coberturas Art.', 'Cantidad de Personas Articulo'],\n",
      "      dtype='object', length=177)\n"
     ]
    }
   ],
   "source": [
    "print(df.columns)"
   ]
  },
  {
   "cell_type": "code",
   "execution_count": 49,
   "metadata": {},
   "outputs": [
    {
     "name": "stdout",
     "output_type": "stream",
     "text": [
      "     Emitido  Sección Principal Nombre Sección Principal  Sección  \\\n",
      "0          A                500              AUTOMOVILES      501   \n",
      "1          A                500              AUTOMOVILES      501   \n",
      "2          A                500              AUTOMOVILES      501   \n",
      "3          A                500              AUTOMOVILES      501   \n",
      "4          A                500              AUTOMOVILES      501   \n",
      "...      ...                ...                      ...      ...   \n",
      "6279       N                500              AUTOMOVILES      501   \n",
      "6280       N                500              AUTOMOVILES      501   \n",
      "6281       N                500              AUTOMOVILES      501   \n",
      "6282       N                500              AUTOMOVILES      501   \n",
      "6283       N                500              AUTOMOVILES      501   \n",
      "\n",
      "     Nombre Sección  Póliza  Endoso  Tipo Póliza Nombre Tipo Póliza  \\\n",
      "0       AUTOMOVILES     551       0            2         Renovacion   \n",
      "1       AUTOMOVILES     552       0            2         Renovacion   \n",
      "2       AUTOMOVILES     553       0            2         Renovacion   \n",
      "3       AUTOMOVILES     554       0            2         Renovacion   \n",
      "4       AUTOMOVILES     555       0            2         Renovacion   \n",
      "...             ...     ...     ...          ...                ...   \n",
      "6279    AUTOMOVILES  150430       0            1              Nueva   \n",
      "6280    AUTOMOVILES  150430       0            1              Nueva   \n",
      "6281    AUTOMOVILES  150430       0            1              Nueva   \n",
      "6282    AUTOMOVILES  150431       0            1              Nueva   \n",
      "6283    AUTOMOVILES  150433       0            1              Nueva   \n",
      "\n",
      "      Contratante/Asegurado  ... MIN Prima Pura Cot  MIN Prima Tarifa Cot  \\\n",
      "0                1949910000  ...       7.731618e+05          1.384016e+06   \n",
      "1                1949910000  ...       7.572645e+05          1.355559e+06   \n",
      "2                2302180000  ...       6.182192e+06          1.106658e+07   \n",
      "3                 267150000  ...       1.996715e+06          3.574266e+06   \n",
      "4                 267150000  ...       1.996715e+06          3.574266e+06   \n",
      "...                     ...  ...                ...                   ...   \n",
      "6279             2956070000  ...       2.912559e+06          5.213695e+06   \n",
      "6280             2956070000  ...       1.405605e+06          2.516136e+06   \n",
      "6281             2956070000  ...       3.372181e+06          6.036450e+06   \n",
      "6282             2956340000  ...       4.323100e+06          7.738666e+06   \n",
      "6283             2436910000  ...       1.737732e+06          3.110667e+06   \n",
      "\n",
      "     Tasa MAX Prima Pura Casco Tasa MAX Prima Pura RC  \\\n",
      "0                     0.052752               0.001415   \n",
      "1                     0.052752               0.001415   \n",
      "2                     0.026695               0.001445   \n",
      "3                     0.030729               0.001415   \n",
      "4                     0.030729               0.001415   \n",
      "...                        ...                    ...   \n",
      "6279                  0.026695               0.001445   \n",
      "6280                  0.036015               0.001445   \n",
      "6281                  0.026695               0.001445   \n",
      "6282                  0.026695               0.001445   \n",
      "6283                  0.032184               0.001445   \n",
      "\n",
      "      Tasa MAX Prima Pura OVP Prima MAX Cobertura Basica / Casco  \\\n",
      "0                    0.003458                       1.232104e+06   \n",
      "1                    0.003458                       1.205764e+06   \n",
      "2                    0.003747                       1.113836e+07   \n",
      "3                    0.003458                       3.214089e+06   \n",
      "4                    0.003458                       3.214089e+06   \n",
      "...                       ...                                ...   \n",
      "6279                 0.003747                       4.898530e+06   \n",
      "6280                 0.003747                       2.539076e+06   \n",
      "6281                 0.003747                       5.752770e+06   \n",
      "6282                 0.003747                       7.354469e+06   \n",
      "6283                 0.003747                       3.073562e+06   \n",
      "\n",
      "       Prima MAX RC Prima MAX OVP  MAX Prima Pura Cot MAX Prima Tarifa Cot  \n",
      "0      23550.623250  0.000000e+00        1.255654e+06         2.247713e+06  \n",
      "1      24257.142655  0.000000e+00        1.230021e+06         2.201828e+06  \n",
      "2     121743.414610  6.313807e+05        1.189149e+07         2.128663e+07  \n",
      "3     234093.072000  4.585676e+05        3.906749e+06         6.993368e+06  \n",
      "4     234093.072000  4.585676e+05        3.906749e+06         6.993368e+06  \n",
      "...             ...           ...                 ...                  ...  \n",
      "6279  260100.000000  7.494000e+05        5.908030e+06         1.057581e+07  \n",
      "6280  260100.000000  7.494000e+05        3.548576e+06         6.352211e+06  \n",
      "6281  260100.000000  7.494000e+05        6.762270e+06         1.210496e+07  \n",
      "6282  325125.000000  1.030425e+06        8.710019e+06         1.559157e+07  \n",
      "6283  325125.000000  1.030425e+06        4.429112e+06         7.928434e+06  \n",
      "\n",
      "[6284 rows x 207 columns]\n"
     ]
    }
   ],
   "source": [
    "df = add_new_column(df)\n",
    "df = add_capital_seg_column(df)\n",
    "df = add_resp_civil_column(df)\n",
    "df = add_ovp_column(df)\n",
    "df = add_tipo_column(df)\n",
    "df = add_franquicia_column(df)\n",
    "df = add_importacion_column(df)\n",
    "df = add_segmento_column(df)\n",
    "df = add_segmento_casco_column(df)\n",
    "df = add_segmento_rc_column(df)\n",
    "df = add_segmento_ovp_column(df)\n",
    "df = add_final_casco_column(df)\n",
    "df = add_tasa_min_prima_pura_casco_column(df)\n",
    "df = add_tasa_min_prima_pura_rc_column(df)\n",
    "df = add_tasa_min_prima_pura_ovp_column(df)\n",
    "df = add_prima_min_cobertura_basica_casco_column(df)\n",
    "df = add_prima_min_rc_column(df)\n",
    "df = add_prima_min_ovp_column(df)\n",
    "df = add_dias_vigencia_column(df)\n",
    "df = add_prima_tecnica_art_column(df)\n",
    "df = add_min_prima_pura_cot_column(df)\n",
    "df = add_min_prima_tarifa_cot_column(df)\n",
    "df = add_tasa_max_prima_pura_casco_column(df)\n",
    "df = add_tasa_max_prima_pura_rc_column(df)\n",
    "df = add_tasa_max_prima_pura_ovp_column(df)\n",
    "df = add_prima_max_cobertura_basica_casco_column(df)\n",
    "df = add_prima_max_rc_column(df)\n",
    "df = add_prima_max_ovp_column(df)\n",
    "df = add_max_prima_pura_cot_column(df)\n",
    "df = add_max_prima_tarifa_cot_column(df)\n",
    "print(df)"
   ]
  },
  {
   "cell_type": "code",
   "execution_count": 50,
   "metadata": {},
   "outputs": [
    {
     "name": "stdout",
     "output_type": "stream",
     "text": [
      "Index(['Emitido', 'Sección Principal', 'Nombre Sección Principal', 'Sección',\n",
      "       'Nombre Sección', 'Póliza', 'Endoso', 'Tipo Póliza',\n",
      "       'Nombre Tipo Póliza', 'Contratante/Asegurado',\n",
      "       ...\n",
      "       'MIN Prima Pura Cot', 'MIN Prima Tarifa Cot',\n",
      "       'Tasa MAX Prima Pura Casco', 'Tasa MAX Prima Pura RC',\n",
      "       'Tasa MAX Prima Pura OVP', 'Prima MAX Cobertura Basica / Casco',\n",
      "       'Prima MAX RC', 'Prima MAX OVP', 'MAX Prima Pura Cot',\n",
      "       'MAX Prima Tarifa Cot'],\n",
      "      dtype='object', length=207)\n"
     ]
    }
   ],
   "source": [
    "print(df.columns)"
   ]
  },
  {
   "cell_type": "code",
   "execution_count": 51,
   "metadata": {},
   "outputs": [],
   "source": [
    "df.to_excel('output2.xlsx', index=False)"
   ]
  }
 ],
 "metadata": {
  "kernelspec": {
   "display_name": "venv",
   "language": "python",
   "name": "python3"
  },
  "language_info": {
   "codemirror_mode": {
    "name": "ipython",
    "version": 3
   },
   "file_extension": ".py",
   "mimetype": "text/x-python",
   "name": "python",
   "nbconvert_exporter": "python",
   "pygments_lexer": "ipython3",
   "version": "3.11.3"
  }
 },
 "nbformat": 4,
 "nbformat_minor": 2
}

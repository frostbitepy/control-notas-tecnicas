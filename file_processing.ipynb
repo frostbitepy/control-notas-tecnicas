{
 "cells": [
  {
   "cell_type": "code",
   "execution_count": 1,
   "metadata": {},
   "outputs": [],
   "source": [
    "import pandas as pd\n",
    "import openpyxl\n",
    "from setup_data import tasas, franquicia, via_importacion, tipo_vhl, seg_casco, seg_rc, seg_ovp"
   ]
  },
  {
   "cell_type": "code",
   "execution_count": 2,
   "metadata": {},
   "outputs": [],
   "source": [
    "file_path = \"listaod especial.xlsx\"\n",
    "\n",
    "df = pd.read_excel(file_path)"
   ]
  },
  {
   "cell_type": "code",
   "execution_count": 3,
   "metadata": {},
   "outputs": [],
   "source": [
    "def add_new_column(df):\n",
    "    df[\"Cobertura Básica / Casco\"] = df[\"Auto Cober. Básica 1\"] + df[\"Auto Cober. Básica 2\"] + df[\"Auto Accesorios\"]\n",
    "    return df"
   ]
  },
  {
   "cell_type": "code",
   "execution_count": 4,
   "metadata": {},
   "outputs": [],
   "source": [
    "def round_to_million(n):\n",
    "    if n > 150000000:\n",
    "        return 150000000\n",
    "    else:\n",
    "        return (n // 1000000) * 1000000"
   ]
  },
  {
   "cell_type": "code",
   "execution_count": 5,
   "metadata": {},
   "outputs": [],
   "source": [
    "def add_capital_seg_column(df):\n",
    "    df[\"Capital seg\"] = df[\"Cobertura Básica / Casco\"].apply(round_to_million)\n",
    "    return df"
   ]
  },
  {
   "cell_type": "code",
   "execution_count": 6,
   "metadata": {},
   "outputs": [],
   "source": [
    "def add_resp_civil_column(df):\n",
    "    df[\"Resp. Civil\"] = df[\"Auto Lesión 2 o más Per.\"] + df[\"Auto Daños Material a Ter.\"]\n",
    "    return df"
   ]
  },
  {
   "cell_type": "code",
   "execution_count": 7,
   "metadata": {},
   "outputs": [],
   "source": [
    "def add_ovp_column(df):\n",
    "    df[\"OVP\"] = (df[\"Auto Muerte/Incap.\"] + df[\"Auto Asist. Médica\"]) *  df[\"Cant. Ocupantes\"]\n",
    "    return df"
   ]
  },
  {
   "cell_type": "code",
   "execution_count": 8,
   "metadata": {},
   "outputs": [],
   "source": [
    "def add_franquicia_column(df):\n",
    "    df[\"Franquicia\"] = df[\"Franquicia Monto Fijo\"].map(franquicia)\n",
    "    return df"
   ]
  },
  {
   "cell_type": "code",
   "execution_count": 9,
   "metadata": {},
   "outputs": [],
   "source": [
    "def add_importacion_column(df):\n",
    "    df[\"Importacion\"] = df[\"Via Importación\"].map(via_importacion)\n",
    "    return df"
   ]
  },
  {
   "cell_type": "code",
   "execution_count": 10,
   "metadata": {},
   "outputs": [],
   "source": [
    "def add_tipo_column(df):\n",
    "    df['Tipo'] = df['Tipo Vehiculo'].map(tipo_vhl)\n",
    "    return df"
   ]
  },
  {
   "cell_type": "code",
   "execution_count": 11,
   "metadata": {},
   "outputs": [],
   "source": [
    "def add_segmento_column(df):\n",
    "    df['Segmento'] = df['Tipo'] + df['Franquicia'] + df['Importacion']\n",
    "    return df"
   ]
  },
  {
   "cell_type": "code",
   "execution_count": 12,
   "metadata": {},
   "outputs": [],
   "source": [
    "def add_segmento_casco_column(df):\n",
    "    df['Segmento Casco'] = df['Segmento'].map(seg_casco)\n",
    "    return df\n",
    "\n",
    "def add_segmento_rc_column(df):\n",
    "    df['Segmento RC'] = df['Segmento'].map(seg_rc)\n",
    "    return df\n",
    "\n",
    "def add_segmento_ovp_column(df):\n",
    "    df['Segmento OVP'] = df['Segmento'].map(seg_ovp)\n",
    "    return df"
   ]
  },
  {
   "cell_type": "code",
   "execution_count": 13,
   "metadata": {},
   "outputs": [
    {
     "name": "stdout",
     "output_type": "stream",
     "text": [
      "     Emitido  Sección Principal Nombre Sección Principal  Sección  \\\n",
      "0          A                500              AUTOMOVILES      501   \n",
      "1          A                500              AUTOMOVILES      501   \n",
      "2          A                500              AUTOMOVILES      501   \n",
      "3          A                500              AUTOMOVILES      501   \n",
      "4          A                500              AUTOMOVILES      501   \n",
      "...      ...                ...                      ...      ...   \n",
      "6279       N                500              AUTOMOVILES      501   \n",
      "6280       N                500              AUTOMOVILES      501   \n",
      "6281       N                500              AUTOMOVILES      501   \n",
      "6282       N                500              AUTOMOVILES      501   \n",
      "6283       N                500              AUTOMOVILES      501   \n",
      "\n",
      "     Nombre Sección  Póliza  Endoso  Tipo Póliza Nombre Tipo Póliza  \\\n",
      "0       AUTOMOVILES     551       0            2         Renovacion   \n",
      "1       AUTOMOVILES     552       0            2         Renovacion   \n",
      "2       AUTOMOVILES     553       0            2         Renovacion   \n",
      "3       AUTOMOVILES     554       0            2         Renovacion   \n",
      "4       AUTOMOVILES     555       0            2         Renovacion   \n",
      "...             ...     ...     ...          ...                ...   \n",
      "6279    AUTOMOVILES  150430       0            1              Nueva   \n",
      "6280    AUTOMOVILES  150430       0            1              Nueva   \n",
      "6281    AUTOMOVILES  150430       0            1              Nueva   \n",
      "6282    AUTOMOVILES  150431       0            1              Nueva   \n",
      "6283    AUTOMOVILES  150433       0            1              Nueva   \n",
      "\n",
      "      Contratante/Asegurado  ... Capital seg  Resp. Civil        OVP  \\\n",
      "0                1949910000  ...    23000000     16643550          0   \n",
      "1                1949910000  ...    22000000     17142857          0   \n",
      "2                2302180000  ...   150000000     84251498  168502992   \n",
      "3                 267150000  ...   104000000    165436800  132610656   \n",
      "4                 267150000  ...   104000000    165436800  132610656   \n",
      "...                     ...  ...         ...          ...        ...   \n",
      "6279             2956070000  ...   150000000    180000000  200000000   \n",
      "6280             2956070000  ...    70000000    180000000  200000000   \n",
      "6281             2956070000  ...   150000000    180000000  200000000   \n",
      "6282             2956340000  ...   150000000    225000000  275000000   \n",
      "6283             2436910000  ...    95000000    225000000  275000000   \n",
      "\n",
      "             Tipo  Franquicia    Importacion                         Segmento  \\\n",
      "0        Camiones     General  Representante     CamionesGeneralRepresentante   \n",
      "1        Camiones     General  Representante     CamionesGeneralRepresentante   \n",
      "2     Automoviles     General  Representante  AutomovilesGeneralRepresentante   \n",
      "3        Camiones     General  Representante     CamionesGeneralRepresentante   \n",
      "4        Camiones     General  Representante     CamionesGeneralRepresentante   \n",
      "...           ...         ...            ...                              ...   \n",
      "6279  Automoviles     General  Representante  AutomovilesGeneralRepresentante   \n",
      "6280  Automoviles     General  Representante  AutomovilesGeneralRepresentante   \n",
      "6281  Automoviles     General  Representante  AutomovilesGeneralRepresentante   \n",
      "6282  Automoviles     General  Representante  AutomovilesGeneralRepresentante   \n",
      "6283  Automoviles     General  Representante  AutomovilesGeneralRepresentante   \n",
      "\n",
      "     Segmento Casco  Segmento RC Segmento OVP  \n",
      "0      Camiones-min       Camion       Camion  \n",
      "1      Camiones-min       Camion       Camion  \n",
      "2               NaN          NaN          NaN  \n",
      "3      Camiones-min       Camion       Camion  \n",
      "4      Camiones-min       Camion       Camion  \n",
      "...             ...          ...          ...  \n",
      "6279            NaN          NaN          NaN  \n",
      "6280            NaN          NaN          NaN  \n",
      "6281            NaN          NaN          NaN  \n",
      "6282            NaN          NaN          NaN  \n",
      "6283            NaN          NaN          NaN  \n",
      "\n",
      "[6284 rows x 188 columns]\n"
     ]
    }
   ],
   "source": [
    "df = add_new_column(df)\n",
    "df = add_capital_seg_column(df)\n",
    "df = add_resp_civil_column(df)\n",
    "df = add_ovp_column(df)\n",
    "df = add_tipo_column(df)\n",
    "df = add_franquicia_column(df)\n",
    "df = add_importacion_column(df)\n",
    "df = add_segmento_column(df)\n",
    "df = add_segmento_casco_column(df)\n",
    "df = add_segmento_rc_column(df)\n",
    "df = add_segmento_ovp_column(df)\n",
    "print(df)"
   ]
  }
 ],
 "metadata": {
  "kernelspec": {
   "display_name": "venv",
   "language": "python",
   "name": "python3"
  },
  "language_info": {
   "codemirror_mode": {
    "name": "ipython",
    "version": 3
   },
   "file_extension": ".py",
   "mimetype": "text/x-python",
   "name": "python",
   "nbconvert_exporter": "python",
   "pygments_lexer": "ipython3",
   "version": "3.11.3"
  }
 },
 "nbformat": 4,
 "nbformat_minor": 2
}

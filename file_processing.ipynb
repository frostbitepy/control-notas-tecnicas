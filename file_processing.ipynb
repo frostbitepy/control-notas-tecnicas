{
 "cells": [
  {
   "cell_type": "code",
   "execution_count": 62,
   "metadata": {},
   "outputs": [],
   "source": [
    "import pandas as pd\n",
    "import openpyxl\n",
    "from setup_data import (tasas, via_importacion, tipo_vhl, seg_casco,\n",
    "                         seg_rc, seg_ovp, tasa_rc_min, tasa_rc_max, tasa_ovp_min, \n",
    "                         tasa_ovp_max, recargo_ptf, products_data)"
   ]
  },
  {
   "cell_type": "code",
   "execution_count": 63,
   "metadata": {},
   "outputs": [],
   "source": [
    "file_path = \"AUTO.xlsx\"\n",
    "\n",
    "main_df = pd.read_excel(file_path)"
   ]
  },
  {
   "cell_type": "code",
   "execution_count": 64,
   "metadata": {},
   "outputs": [],
   "source": [
    "df = main_df"
   ]
  },
  {
   "cell_type": "code",
   "execution_count": 65,
   "metadata": {},
   "outputs": [],
   "source": [
    "def updated_name_column(df):\n",
    "    df['Updated Nombre Producto'] = df['Nombre Producto'].map(products_data)\n",
    "    return df"
   ]
  },
  {
   "cell_type": "code",
   "execution_count": 66,
   "metadata": {},
   "outputs": [],
   "source": [
    "def add_cobertura_basica_column(df):\n",
    "    df[\"Cobertura Básica / Casco\"] = df[\"Auto Cober. Básica 1\"] + df[\"Auto Cober. Básica 2\"] + df[\"Auto Accesorios\"]\n",
    "    return df"
   ]
  },
  {
   "cell_type": "code",
   "execution_count": 67,
   "metadata": {},
   "outputs": [],
   "source": [
    "def round_to_million(n):\n",
    "    if n > 150000000:\n",
    "        return 150000000\n",
    "    else:\n",
    "        return (n // 1000000) * 1000000"
   ]
  },
  {
   "cell_type": "code",
   "execution_count": 68,
   "metadata": {},
   "outputs": [],
   "source": [
    "def add_capital_seg_column(df):\n",
    "    df[\"Capital seg\"] = df[\"Cobertura Básica / Casco\"].apply(round_to_million)\n",
    "    return df"
   ]
  },
  {
   "cell_type": "code",
   "execution_count": 69,
   "metadata": {},
   "outputs": [],
   "source": [
    "def add_resp_civil_column(df):\n",
    "    df[\"Resp. Civil\"] = df[\"Auto Lesión 2 o más Per.\"] + df[\"Auto Daños Material a Ter.\"]\n",
    "    return df"
   ]
  },
  {
   "cell_type": "code",
   "execution_count": 70,
   "metadata": {},
   "outputs": [],
   "source": [
    "def add_ovp_column(df):\n",
    "    df[\"OVP\"] = (df[\"Auto Muerte/Incap.\"] + df[\"Auto Asist. Médica\"]) *  df[\"Cant. Ocupantes\"]\n",
    "    return df"
   ]
  },
  {
   "cell_type": "code",
   "execution_count": 71,
   "metadata": {},
   "outputs": [],
   "source": [
    "def add_franquicia_column(df):\n",
    "    def map_franquicia(value):\n",
    "        if value < 500000:\n",
    "            return \"General\"\n",
    "        elif value == 500000:\n",
    "            return \"Franquicia 500mil\"\n",
    "        else:\n",
    "            return \"Franquicia 1 millón\"\n",
    "\n",
    "    df[\"Franquicia\"] = df[\"Franquicia Monto Fijo\"].apply(map_franquicia)\n",
    "    return df"
   ]
  },
  {
   "cell_type": "code",
   "execution_count": 72,
   "metadata": {},
   "outputs": [],
   "source": [
    "def add_importacion_column(df):\n",
    "    df[\"Importacion\"] = df[\"Via Importación\"].map(via_importacion)\n",
    "    return df"
   ]
  },
  {
   "cell_type": "code",
   "execution_count": 73,
   "metadata": {},
   "outputs": [],
   "source": [
    "def add_tipo_column(df):\n",
    "    df['Tipo'] = df['Tipo Vehiculo'].map(tipo_vhl)\n",
    "    return df"
   ]
  },
  {
   "cell_type": "code",
   "execution_count": 74,
   "metadata": {},
   "outputs": [],
   "source": [
    "def add_segmento_column(df):\n",
    "    df['Segmento'] = df['Tipo'] + df['Franquicia'] + df['Importacion']\n",
    "    return df"
   ]
  },
  {
   "cell_type": "code",
   "execution_count": 75,
   "metadata": {},
   "outputs": [],
   "source": [
    "def add_segmento_casco_column(df):\n",
    "    df['Segmento Casco'] = df['Segmento'].map(seg_casco)\n",
    "    return df\n",
    "\n",
    "def add_segmento_rc_column(df):\n",
    "    df['Segmento RC'] = df['Segmento'].map(seg_rc)\n",
    "    return df\n",
    "\n",
    "def add_segmento_ovp_column(df):\n",
    "    df['Segmento OVP'] = df['Segmento'].map(seg_ovp)\n",
    "    return df"
   ]
  },
  {
   "cell_type": "code",
   "execution_count": 76,
   "metadata": {},
   "outputs": [],
   "source": [
    "def add_final_casco_column(df):\n",
    "    df['Final Casco'] = df['Segmento Casco'] + \"-\" + df['Capital seg'].astype(str) \n",
    "    return df"
   ]
  },
  {
   "cell_type": "code",
   "execution_count": 77,
   "metadata": {},
   "outputs": [],
   "source": [
    "def add_tasa_min_prima_pura_casco_column(df):\n",
    "    df['Tasa MIN Prima Pura Casco'] = df['Final Casco'].map(lambda x: tasas.get(x, {}).get('min'))\n",
    "    return df \n",
    "\n",
    "def add_tasa_min_prima_pura_rc_column(df):\n",
    "    df['Tasa MIN Prima Pura RC'] = df['Segmento RC'].map(tasa_rc_min)\n",
    "    return df\n",
    "\n",
    "def add_tasa_min_prima_pura_ovp_column(df ):\n",
    "    df['Tasa MIN Prima Pura OVP'] = df['Segmento OVP'].map(tasa_ovp_min)\n",
    "    return df"
   ]
  },
  {
   "cell_type": "code",
   "execution_count": 78,
   "metadata": {},
   "outputs": [],
   "source": [
    "def add_prima_min_cobertura_basica_casco_column(df):\n",
    "    df['Prima MIN Cobertura Basica / Casco'] = df['Cobertura Básica / Casco'] * df['Tasa MIN Prima Pura Casco']\n",
    "    return df\n",
    "    \n",
    "def add_prima_min_rc_column(df):\n",
    "    df['Prima MIN RC'] = df[\"Resp. Civil\"] * df[\"Tasa MIN Prima Pura RC\"]\n",
    "    return df\n",
    "\n",
    "def add_prima_min_ovp_column(df):\n",
    "    df['Prima MIN OVP'] = df[\"OVP\"] * df[\"Tasa MIN Prima Pura OVP\"]\n",
    "    return df"
   ]
  },
  {
   "cell_type": "code",
   "execution_count": 79,
   "metadata": {},
   "outputs": [],
   "source": [
    "def add_dias_vigencia_column(df):\n",
    "    df['Dias Vigencia'] = (df['Fec. Hasta'] - df['Fec. Desde']).dt.days + 1\n",
    "    return df\n",
    "\n",
    "def add_prima_tecnica_art_column(df):\n",
    "    df['Prima Tecnica Art.'] = df['Prima Técnica Art.'] / df['Dias Vigencia'] * 365\n",
    "    return df"
   ]
  },
  {
   "cell_type": "code",
   "execution_count": 80,
   "metadata": {},
   "outputs": [],
   "source": [
    "def add_min_prima_pura_cot_column(df):\n",
    "    df['MIN Prima Pura Cot'] = df['Prima MIN Cobertura Basica / Casco'] + df['Prima MIN RC'] + df['Prima MIN OVP']\n",
    "    return df\n",
    "\n",
    "def add_min_prima_tarifa_cot_column(df):\n",
    "    df['MIN Prima Tarifa Cot'] = df['MIN Prima Pura Cot'] * recargo_ptf\n",
    "    return df"
   ]
  },
  {
   "cell_type": "code",
   "execution_count": 81,
   "metadata": {},
   "outputs": [],
   "source": [
    "def add_tasa_max_prima_pura_casco_column(df):\n",
    "    df['Tasa MAX Prima Pura Casco'] = df['Final Casco'].map(lambda x: tasas.get(x, {}).get('max'))\n",
    "    return df \n",
    "\n",
    "def add_tasa_max_prima_pura_rc_column(df):\n",
    "    df['Tasa MAX Prima Pura RC'] = df['Segmento RC'].map(tasa_rc_max)\n",
    "    return df\n",
    "\n",
    "def add_tasa_max_prima_pura_ovp_column(df ):\n",
    "    df['Tasa MAX Prima Pura OVP'] = df['Segmento OVP'].map(tasa_ovp_max)\n",
    "    return df"
   ]
  },
  {
   "cell_type": "code",
   "execution_count": 82,
   "metadata": {},
   "outputs": [],
   "source": [
    "def add_prima_max_cobertura_basica_casco_column(df):\n",
    "    df['Prima MAX Cobertura Basica / Casco'] = df['Cobertura Básica / Casco'] * df['Tasa MAX Prima Pura Casco']\n",
    "    return df\n",
    "    \n",
    "def add_prima_max_rc_column(df):\n",
    "    df['Prima MAX RC'] = df[\"Resp. Civil\"] * df[\"Tasa MAX Prima Pura RC\"]\n",
    "    return df\n",
    "\n",
    "def add_prima_max_ovp_column(df):\n",
    "    df['Prima MAX OVP'] = df[\"OVP\"] * df[\"Tasa MAX Prima Pura OVP\"]\n",
    "    return df"
   ]
  },
  {
   "cell_type": "code",
   "execution_count": 83,
   "metadata": {},
   "outputs": [],
   "source": [
    "def add_max_prima_pura_cot_column(df):\n",
    "    df['MAX Prima Pura Cot'] = df['Prima MAX Cobertura Basica / Casco'] + df['Prima MAX RC'] + df['Prima MAX OVP']\n",
    "    return df\n",
    "\n",
    "def add_max_prima_tarifa_cot_column(df):\n",
    "    df['MAX Prima Tarifa Cot'] = df['MAX Prima Pura Cot'] * recargo_ptf\n",
    "    return df"
   ]
  },
  {
   "cell_type": "code",
   "execution_count": 84,
   "metadata": {},
   "outputs": [],
   "source": [
    "def add_monto_diferencia_prima_pura_column(df):\n",
    "    def calculate_difference(row):\n",
    "        cx = row['Prima Tecnica Art.']\n",
    "        da = row['MIN Prima Pura Cot']\n",
    "        dj = row['MAX Prima Tarifa Cot']\n",
    "\n",
    "        if cx < da:\n",
    "            return cx - da\n",
    "        elif cx > dj:\n",
    "            return cx - dj\n",
    "        else:\n",
    "            return \"\"\n",
    "\n",
    "    df['Monto Diferencia Prima Pura'] = df.apply(calculate_difference, axis=1)\n",
    "    return df\n",
    "\n",
    "def add_monto_diferencia_prima_tarifa_column(df):\n",
    "    def calculate_difference(row):\n",
    "        cx = row['Prima Tecnica Art.']\n",
    "        da = row['MIN Prima Tarifa Cot']\n",
    "        dj = row['MAX Prima Tarifa Cot']\n",
    "\n",
    "        if cx < da:\n",
    "            return cx - da\n",
    "        elif cx > dj:\n",
    "            return cx - dj\n",
    "        else:\n",
    "            return \"\"\n",
    "\n",
    "    df['Monto Diferencia Prima Tarifa'] = df.apply(calculate_difference, axis=1)\n",
    "    return df"
   ]
  },
  {
   "cell_type": "code",
   "execution_count": 85,
   "metadata": {},
   "outputs": [
    {
     "name": "stdout",
     "output_type": "stream",
     "text": [
      "Index(['Emitido', 'Sección Principal', 'Nombre Sección Principal', 'Sección',\n",
      "       'Nombre Sección', 'Póliza', 'Endoso', 'Tipo Póliza',\n",
      "       'Nombre Tipo Póliza', 'Contratante/Asegurado',\n",
      "       ...\n",
      "       'Stro. Auto Cobertura Básica 2', 'Stro. Auto Lesión Una Per. Art.',\n",
      "       'Stro. Auto Lesión 2 o más Per. Art.', 'Stro. Auto Robo Veh. Art.',\n",
      "       'Stro. Auto Accesorios Art.', 'Stro. Auto Daños Material a Ter. Art.',\n",
      "       'Stro. Auto Muerte/Incap. Art.', 'Stro. Auto Asist. Médica Art.',\n",
      "       'Stro. Auto Otras Coberturas Art.', 'Cantidad de Personas Articulo'],\n",
      "      dtype='object', length=177)\n"
     ]
    }
   ],
   "source": [
    "print(df.columns)"
   ]
  },
  {
   "cell_type": "code",
   "execution_count": 86,
   "metadata": {},
   "outputs": [
    {
     "name": "stdout",
     "output_type": "stream",
     "text": [
      "     Emitido  Sección Principal Nombre Sección Principal  Sección  \\\n",
      "0          A                500              AUTOMOVILES      501   \n",
      "1          A                500              AUTOMOVILES      501   \n",
      "2          A                500              AUTOMOVILES      501   \n",
      "3          A                500              AUTOMOVILES      501   \n",
      "4          A                500              AUTOMOVILES      501   \n",
      "...      ...                ...                      ...      ...   \n",
      "6279       N                500              AUTOMOVILES      501   \n",
      "6280       N                500              AUTOMOVILES      501   \n",
      "6281       N                500              AUTOMOVILES      501   \n",
      "6282       N                500              AUTOMOVILES      501   \n",
      "6283       N                500              AUTOMOVILES      501   \n",
      "\n",
      "     Nombre Sección  Póliza  Endoso  Tipo Póliza Nombre Tipo Póliza  \\\n",
      "0       AUTOMOVILES     551       0            2         Renovacion   \n",
      "1       AUTOMOVILES     552       0            2         Renovacion   \n",
      "2       AUTOMOVILES     553       0            2         Renovacion   \n",
      "3       AUTOMOVILES     554       0            2         Renovacion   \n",
      "4       AUTOMOVILES     555       0            2         Renovacion   \n",
      "...             ...     ...     ...          ...                ...   \n",
      "6279    AUTOMOVILES  150430       0            1              Nueva   \n",
      "6280    AUTOMOVILES  150430       0            1              Nueva   \n",
      "6281    AUTOMOVILES  150430       0            1              Nueva   \n",
      "6282    AUTOMOVILES  150431       0            1              Nueva   \n",
      "6283    AUTOMOVILES  150433       0            1              Nueva   \n",
      "\n",
      "      Contratante/Asegurado  ... Tasa MAX Prima Pura Casco  \\\n",
      "0                1949910000  ...                  0.052752   \n",
      "1                1949910000  ...                  0.052752   \n",
      "2                2302180000  ...                  0.026695   \n",
      "3                 267150000  ...                  0.030729   \n",
      "4                 267150000  ...                  0.030729   \n",
      "...                     ...  ...                       ...   \n",
      "6279             2956070000  ...                  0.026695   \n",
      "6280             2956070000  ...                  0.036015   \n",
      "6281             2956070000  ...                  0.026695   \n",
      "6282             2956340000  ...                  0.026695   \n",
      "6283             2436910000  ...                  0.032184   \n",
      "\n",
      "      Tasa MAX Prima Pura RC Tasa MAX Prima Pura OVP  \\\n",
      "0                   0.001415                0.003458   \n",
      "1                   0.001415                0.003458   \n",
      "2                   0.001445                0.003747   \n",
      "3                   0.001415                0.003458   \n",
      "4                   0.001415                0.003458   \n",
      "...                      ...                     ...   \n",
      "6279                0.001445                0.003747   \n",
      "6280                0.001445                0.003747   \n",
      "6281                0.001445                0.003747   \n",
      "6282                0.001445                0.003747   \n",
      "6283                0.001445                0.003747   \n",
      "\n",
      "     Prima MAX Cobertura Basica / Casco   Prima MAX RC Prima MAX OVP  \\\n",
      "0                          1.232104e+06   23550.623250  0.000000e+00   \n",
      "1                          1.205764e+06   24257.142655  0.000000e+00   \n",
      "2                          1.113836e+07  121743.414610  6.313807e+05   \n",
      "3                          3.214089e+06  234093.072000  4.585676e+05   \n",
      "4                          3.214089e+06  234093.072000  4.585676e+05   \n",
      "...                                 ...            ...           ...   \n",
      "6279                       4.898530e+06  260100.000000  7.494000e+05   \n",
      "6280                       2.539076e+06  260100.000000  7.494000e+05   \n",
      "6281                       5.752770e+06  260100.000000  7.494000e+05   \n",
      "6282                       7.354469e+06  325125.000000  1.030425e+06   \n",
      "6283                       3.073562e+06  325125.000000  1.030425e+06   \n",
      "\n",
      "     MAX Prima Pura Cot MAX Prima Tarifa Cot  Monto Diferencia Prima Pura  \\\n",
      "0          1.255654e+06         2.247713e+06                                \n",
      "1          1.230021e+06         2.201828e+06                                \n",
      "2          1.189149e+07         2.128663e+07                                \n",
      "3          3.906749e+06         6.993368e+06                -69320.339977   \n",
      "4          3.906749e+06         6.993368e+06                -69320.339977   \n",
      "...                 ...                  ...                          ...   \n",
      "6279       5.908030e+06         1.057581e+07                                \n",
      "6280       3.548576e+06         6.352211e+06                                \n",
      "6281       6.762270e+06         1.210496e+07                                \n",
      "6282       8.710019e+06         1.559157e+07                                \n",
      "6283       4.429112e+06         7.928434e+06                                \n",
      "\n",
      "     Monto Diferencia Prima Tarifa  \n",
      "0                   -549275.207863  \n",
      "1                   -495776.009513  \n",
      "2                                   \n",
      "3                  -1646871.309033  \n",
      "4                  -1646871.309033  \n",
      "...                            ...  \n",
      "6279                 -414599.75641  \n",
      "6280                -763657.588063  \n",
      "6281                -374598.100726  \n",
      "6282                                \n",
      "6283                                \n",
      "\n",
      "[6284 rows x 210 columns]\n"
     ]
    }
   ],
   "source": [
    "df = updated_name_column(df)\n",
    "df = add_cobertura_basica_column(df)\n",
    "df = add_capital_seg_column(df)\n",
    "df = add_resp_civil_column(df)\n",
    "df = add_ovp_column(df)\n",
    "df = add_tipo_column(df)\n",
    "df = add_franquicia_column(df)\n",
    "df = add_importacion_column(df)\n",
    "df = add_segmento_column(df)\n",
    "df = add_segmento_casco_column(df)\n",
    "df = add_segmento_rc_column(df)\n",
    "df = add_segmento_ovp_column(df)\n",
    "df = add_final_casco_column(df)\n",
    "df = add_tasa_min_prima_pura_casco_column(df)\n",
    "df = add_tasa_min_prima_pura_rc_column(df)\n",
    "df = add_tasa_min_prima_pura_ovp_column(df)\n",
    "df = add_prima_min_cobertura_basica_casco_column(df)\n",
    "df = add_prima_min_rc_column(df)\n",
    "df = add_prima_min_ovp_column(df)\n",
    "df = add_dias_vigencia_column(df)\n",
    "df = add_prima_tecnica_art_column(df)\n",
    "df = add_min_prima_pura_cot_column(df)\n",
    "df = add_min_prima_tarifa_cot_column(df)\n",
    "df = add_tasa_max_prima_pura_casco_column(df)\n",
    "df = add_tasa_max_prima_pura_rc_column(df)\n",
    "df = add_tasa_max_prima_pura_ovp_column(df)\n",
    "df = add_prima_max_cobertura_basica_casco_column(df)\n",
    "df = add_prima_max_rc_column(df)\n",
    "df = add_prima_max_ovp_column(df)\n",
    "df = add_max_prima_pura_cot_column(df)\n",
    "df = add_max_prima_tarifa_cot_column(df)\n",
    "df = add_monto_diferencia_prima_pura_column(df)\n",
    "df = add_monto_diferencia_prima_tarifa_column(df)\n",
    "print(df)"
   ]
  },
  {
   "cell_type": "code",
   "execution_count": 87,
   "metadata": {},
   "outputs": [],
   "source": [
    "df.to_excel('output_updated_products.xlsx', index=False)"
   ]
  },
  {
   "cell_type": "code",
   "execution_count": 88,
   "metadata": {},
   "outputs": [],
   "source": [
    "def count_product_names_x(df):\n",
    "    df['Mapped Nombre Producto'] = df['Nombre Producto'].map(products_data)\n",
    "    df_count = df.groupby('Updated Nombre Producto').agg({\n",
    "        'Mapped Nombre Producto': 'count',\n",
    "        'Prima Tecnica Art.': 'sum',\n",
    "        'MIN Prima Pura Cot': 'sum',\n",
    "        'MIN Prima Tarifa Cot': 'sum',\n",
    "        'MAX Prima Pura Cot': 'sum'\n",
    "    }).reset_index()\n",
    "    df_count.columns = ['PRODUCTO', 'CANTIDAD', 'PRIMA TECNICA ART', 'MIN PRIMA PURA COT', 'MIN PRIMA TARIFA COT', 'MAX PRIMA PURA COT']\n",
    "    return df_count"
   ]
  },
  {
   "cell_type": "code",
   "execution_count": 89,
   "metadata": {},
   "outputs": [],
   "source": [
    "def count_product_names_x2(df):\n",
    "    # Convert columns to numeric type and round to 2 decimal places\n",
    "    numeric_columns = ['Prima Tecnica Art.', 'MIN Prima Pura Cot', 'MIN Prima Tarifa Cot', 'MAX Prima Pura Cot', 'Monto Diferencia Prima Pura', 'Monto Diferencia Prima Tarifa']\n",
    "    for col in numeric_columns:\n",
    "        df[col] = pd.to_numeric(df[col], errors='coerce').round(2)\n",
    "\n",
    "    df['Mapped Nombre Producto'] = df['Nombre Producto'].map(products_data)\n",
    "    df_grouped = df.groupby('Updated Nombre Producto').agg({\n",
    "        'Mapped Nombre Producto': 'count',\n",
    "        'Prima Tecnica Art.': 'sum',\n",
    "        'MIN Prima Pura Cot': 'sum',\n",
    "        'MIN Prima Tarifa Cot': 'sum',\n",
    "        'MAX Prima Pura Cot': 'sum',\n",
    "        'Monto Diferencia Prima Pura': 'sum',\n",
    "        'Monto Diferencia Prima Tarifa': 'sum'\n",
    "    }).reset_index()\n",
    "\n",
    "    df_grouped.columns = ['PRODUCTO', 'CANTIDAD', 'PRIMA TECNICA ART', 'MIN PRIMA PURA COT', 'MIN PRIMA TARIFA COT', 'MAX PRIMA PURA COT', 'Total Monto Diferencia Prima Pura', 'Total Monto Diferencia Prima Tarifa']\n",
    "    return df_grouped"
   ]
  },
  {
   "cell_type": "code",
   "execution_count": 90,
   "metadata": {},
   "outputs": [],
   "source": [
    "def process_resumen(df):\n",
    "    # Convert columns to numeric type and round to 2 decimal places\n",
    "    numeric_columns = ['Prima Tecnica Art.', 'MIN Prima Pura Cot', 'MIN Prima Tarifa Cot', 'MAX Prima Pura Cot', 'Monto Diferencia Prima Pura', 'Monto Diferencia Prima Tarifa']\n",
    "    for col in numeric_columns:\n",
    "        df[col] = pd.to_numeric(df[col], errors='coerce').round(2)\n",
    "\n",
    "    df['Mapped Nombre Producto'] = df['Nombre Producto'].map(products_data)\n",
    "    df_grouped = df.groupby('Updated Nombre Producto').agg({\n",
    "        'Mapped Nombre Producto': 'count',\n",
    "        'Prima Tecnica Art.': 'sum',\n",
    "        'MIN Prima Pura Cot': 'sum',\n",
    "        'MIN Prima Tarifa Cot': 'sum',\n",
    "        'MAX Prima Pura Cot': 'sum',\n",
    "        'Monto Diferencia Prima Pura': ['sum', 'count'],\n",
    "        'Monto Diferencia Prima Tarifa': ['sum', 'count']\n",
    "    }).reset_index()\n",
    "\n",
    "    df_grouped.columns = ['PRODUCTO', 'CANTIDAD', 'PRIMA TÉCNICA ART', 'MIN PRIMA PURA COT', 'MIN PRIMA TARIFA COT', 'MAX PRIMA PURA COT', 'Total Monto Diferencia Prima Pura', 'Count Prima Pura', 'Total Monto Diferencia Prima Tarifa', 'Count Prima Tarifa']\n",
    "    return df_grouped"
   ]
  },
  {
   "cell_type": "code",
   "execution_count": 91,
   "metadata": {},
   "outputs": [],
   "source": [
    "df_new = process_resumen(df)\n",
    "df_new.to_excel('resumen_auto.xlsx', index=False)"
   ]
  }
 ],
 "metadata": {
  "kernelspec": {
   "display_name": "venv",
   "language": "python",
   "name": "python3"
  },
  "language_info": {
   "codemirror_mode": {
    "name": "ipython",
    "version": 3
   },
   "file_extension": ".py",
   "mimetype": "text/x-python",
   "name": "python",
   "nbconvert_exporter": "python",
   "pygments_lexer": "ipython3",
   "version": "3.11.3"
  }
 },
 "nbformat": 4,
 "nbformat_minor": 2
}

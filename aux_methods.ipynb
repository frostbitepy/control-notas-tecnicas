{
 "cells": [
  {
   "cell_type": "code",
   "execution_count": null,
   "metadata": {},
   "outputs": [],
   "source": [
    "def generate_dict(df):\n",
    "    # Initialize an empty dictionary\n",
    "    result = {}\n",
    "\n",
    "    # Iterate over the rows of the DataFrame\n",
    "    for index, row in df.iterrows():\n",
    "        # Use the value in the first column as the key\n",
    "        key = row.iloc[0]\n",
    "\n",
    "        # Create a dictionary for the 'min' and 'max' values\n",
    "        values = {\n",
    "            'min': row.iloc[1],\n",
    "            'max': row.iloc[2]\n",
    "        }\n",
    "\n",
    "        # Add the values to the result dictionary\n",
    "        result[key] = values\n",
    "\n",
    "    return result"
   ]
  }
 ],
 "metadata": {
  "language_info": {
   "name": "python"
  }
 },
 "nbformat": 4,
 "nbformat_minor": 2
}
